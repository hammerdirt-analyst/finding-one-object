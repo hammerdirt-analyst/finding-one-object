{
 "cells": [
  {
   "cell_type": "code",
   "execution_count": 1,
   "metadata": {
    "tags": []
   },
   "outputs": [],
   "source": [
    "# sys, file and nav packages:\n",
    "import datetime as dt\n",
    "import warnings\n",
    "\n",
    "# math packages:\n",
    "import pandas as pd\n",
    "import numpy as np\n",
    "import scipy\n",
    "from scipy.stats import poisson\n",
    "from scipy.stats import norm\n",
    "import pymc3 as pm\n",
    "import empiricaldist\n",
    "from empiricaldist import Pmf\n",
    "import arviz as az\n",
    "\n",
    "import matplotlib\n",
    "from matplotlib import pyplot as plt\n",
    "import seaborn as sns\n",
    "import matplotlib.colors as mcolors\n",
    "from matplotlib import colors\n",
    "from matplotlib.gridspec import GridSpec\n",
    "\n",
    "# images and display\n",
    "# import base64, io, IPython\n",
    "from PIL import Image as PILImage\n",
    "from IPython.display import Markdown as md\n",
    "from IPython.display import display\n",
    "\n",
    "# set some parameters:\n",
    "# today = dt.datetime.now().date().strftime(\"%Y-%m-%d\")\n",
    "start_date = '2015-11-01'\n",
    "end_date ='2021-11-01'\n",
    "\n",
    "dfBeaches = pd.read_csv(\"resources/beaches_with_land_use_rates.csv\")\n",
    "dfDims = pd.read_csv(\"resources/corrected_dims.csv\")\n",
    "\n",
    "# set the index of the beach data to location slug\n",
    "dfBeaches.set_index('slug', inplace=True)\n",
    "\n",
    "# map location slug to the proper city name\n",
    "city_map = dfBeaches['city']\n",
    "\n",
    "# map locations to feature names\n",
    "location_wname_key = dfBeaches.water_name_slug\n",
    "\n",
    "# all data since 2015\n",
    "x = pd.read_csv(\"resources/checked_before_agg_sdata_eos_2020_21.csv\")\n",
    "\n",
    "# xl = x[x.water_name_slug == \"lac-leman\"].copy()\n",
    "\n",
    "ldb = x[x.water_name_slug == \"lac-leman\"].copy()\n",
    "\n",
    "# assign loc_date\n",
    "ldb['loc_date'] = list(zip(ldb.location, ldb['date']))\n",
    "\n",
    "# date to datetime\n",
    "ldb['date'] = pd.to_datetime(ldb['date'], format=\"%Y-%m-%d\")\n",
    "ldb = ldb[ldb[\"date\"]<=\"2021-11-01\"]\n",
    "ldb[\"year\"] = ldb[\"date\"].dt.year\n",
    "\n",
    "# agg levels\n",
    "samp_loc = ['loc_date', 'location']\n",
    "ldate = ['loc_date']\n",
    "city = ['Genève']\n",
    "\n",
    "# agg columns\n",
    "qandp = {'quantity':'sum', 'pcs_m':'sum'}\n",
    "qandnsamps = {'quantity': 'sum', 'loc_date':'nunique'}\n",
    "\n",
    "# agg codes and groups\n",
    "code = ['G144', 'G96']\n",
    "groupname = ['waste water']\n",
    "\n",
    "sg = ldb.city.isin(city)\n",
    "fhw = (ldb.groupname.isin(groupname))\n",
    "fhg = ldb.code.isin(code)\n",
    "gzero = ldb.quantity > 0\n",
    "\n",
    "# define the sampling periods\n",
    "\n",
    "# year one\n",
    "y_o_s = \"2015-11-15\"\n",
    "y_o_e = \"2017-03-31\"\n",
    "\n",
    "# year two\n",
    "y_t_s = \"2017-04-01\"\n",
    "y_t_e = \"2018-05-01\"\n",
    "\n",
    "# year three\n",
    "y_th_s = \"2021-11-01\"\n",
    "\n",
    "# map the periods to the data\n",
    "y_one = ldb['date'] <= y_o_e\n",
    "y_two = (ldb['date'] >= y_t_s) & (ldb['date'] <= y_t_e)\n",
    "y_thre = (ldb['date'] > y_t_e) &(ldb['date'] <= y_th_s)\n",
    "\n",
    "# make a seperate df for each\n",
    "year_one = ldb[y_one].copy()\n",
    "year_two = ldb[y_two].copy()\n",
    "year_three = ldb[y_thre].copy()\n",
    "\n",
    "# store the dfs in an array\n",
    "dfs =  [year_one, year_two, year_three]\n",
    "\n",
    "# summarize all instances at all locations\n",
    "# the total objects per location, number of samples, number of target objects, number of samples with target objects\n",
    "adlt = ldb.groupby(['city','location']).agg(qandnsamps)\n",
    "\n",
    "adlt.rename(columns={'loc_date':'n samples', 'quantity':'qd'}, inplace=True)\n",
    "foundfhg =ldb[fhg&gzero].groupby(['city','location']).agg(qandnsamps)\n",
    "\n",
    "fhg_summary = pd.concat([adlt,foundfhg], axis=1)\n",
    "fhg_summary.fillna(0, inplace=True)\n",
    "fhg_summary.rename(columns={'quantity':'q_fhg', 'loc_date':'s_pos'}, inplace=True)\n",
    "fhg_summary.reset_index(inplace=True)"
   ]
  },
  {
   "cell_type": "code",
   "execution_count": 2,
   "metadata": {},
   "outputs": [
    {
     "data": {
      "text/plain": [
       "array(['Genève', 'Saint-Sulpice (VD)', 'La Tour-de-Peilz', 'Préverenges',\n",
       "       'Lausanne', 'Saint-Gingolph', 'Vevey', 'Bourg-en-Lavaux',\n",
       "       'Allaman', 'Montreux', 'Tolochenaz', 'Gland', 'Versoix', 'Rolle',\n",
       "       'Morges'], dtype=object)"
      ]
     },
     "execution_count": 2,
     "metadata": {},
     "output_type": "execute_result"
    }
   ],
   "source": [
    "ldb.city.unique()"
   ]
  },
  {
   "cell_type": "code",
   "execution_count": 3,
   "metadata": {
    "tags": []
   },
   "outputs": [],
   "source": [
    "def make_a_summary_table(ax, data,colLabels, a_color=\"black\", font_size=12, s_et_bottom_row=True, coded_labels=False, codes=[]):\n",
    "    \n",
    "    \"\"\"Formats matplotlib table object.\n",
    "\n",
    "    Args:\n",
    "    ax: object: matplotlib table object\n",
    "    data: array: the 2d array used to generate the table object\n",
    "    cols_to_use: array: the list of column names\n",
    "    a_color: str: matplotlib named color, face and edgecolor of table cells\n",
    "    font_size: int: the font size for the table cells\n",
    "    s_et_bottom_row: bool: whether or not to draw bottom line on the last row\n",
    "\n",
    "    Returns:\n",
    "    The table object formatted.\n",
    "    \"\"\"\n",
    "\n",
    "    ax.auto_set_font_size(False)\n",
    "    the_cells = ax.get_celld()\n",
    "\n",
    "    line_color = mcolors.to_rgba(\"black\")\n",
    "    banded_color = (*line_color[:-1], 0.1)\n",
    "\n",
    "    # the different areas of formatting\n",
    "    top_row = [(0, i) for i in np.arange(len(colLabels))]\n",
    "    bottom_row = [(len(data), i) for i in np.arange(len(colLabels))]\n",
    "    data_rows = [x for x in list(the_cells.keys()) if x not in top_row]\n",
    "    \n",
    "    if coded_labels:\n",
    "        for i, a_cell in enumerate(top_row):\n",
    "            ax[a_cell].get_text().set_text(\"\")\n",
    "            \n",
    "            cell_color = mcolors.to_rgba(codes[i])\n",
    "            c_color = (*cell_color[:-1], 0.6)\n",
    "            ax[a_cell].set_facecolor(c_color)\n",
    "            ax[a_cell].set_linewidth = 1\n",
    "            ax[a_cell].set_height( .4/ (len(data)))\n",
    "        \n",
    "        \n",
    "        \n",
    "    else:\n",
    "        for i, a_cell in enumerate(top_row):\n",
    "            ax[a_cell].visible_edges = \"B\"\n",
    "            ax[a_cell].set_text_props(**{\"fontsize\": font_size})\n",
    "            ax[a_cell].set_edgecolor(\"black\")\n",
    "            \n",
    "            ax[a_cell].PAD = .2\n",
    "            ax[a_cell].set_linewidth = 1\n",
    "            ax[a_cell].set_height(.5 / (len(data)))\n",
    "\n",
    "    for a_cell in data_rows:\n",
    "        ax[a_cell].set_height(.5 / (len(data)))\n",
    "        ax[a_cell].visible_edges = \"BT\"\n",
    "        ax[a_cell].set_text_props(**{\"fontsize\": font_size})\n",
    "        ax[a_cell].set_edgecolor(banded_color)\n",
    "        ax[a_cell]._text.set_horizontalalignment(\"center\")\n",
    "        ax[a_cell].set_linewidth = .1\n",
    "\n",
    "    if s_et_bottom_row is True:\n",
    "        \n",
    "        for a_cell in bottom_row:\n",
    "            ax[a_cell].visible_edges = \"B\"\n",
    "            ax[a_cell].set_edgecolor(line_color)\n",
    "            ax[a_cell].set_linewidth = 1\n",
    "\n",
    "    return ax\n",
    "\n",
    "\n",
    "\n",
    "def a_simple_formatted_table(ax,data,colLabels=[], a_color=\"black\", colWidths=[], bbox=[], coded_labels=False, codes=[],**kwargs):\n",
    "    \"\"\"Makes a table with rows from a matplotlib axes object and a 2d array. Header row is\n",
    "    spererated from table body by a thicker black line. \n",
    "    \n",
    "    :param ax: An axes\n",
    "    :type ax: matplotlib axes\n",
    "    :param data: An array of the table values not including column names or labels\n",
    "    :type data: array\n",
    "    :param colLabels: The labels for the data table columns\n",
    "    :type colLabels: array\n",
    "    :param a_color: The color of the cell borders\n",
    "    :type a_color: str\n",
    "    :param colWidths: The width of each column in fractions of 1\n",
    "    :type colWdiths: array, x < 1\n",
    "    :param bbox: The location of the table in figure space\n",
    "    :type bbox: array\n",
    "    :return: A table on the provided axis\n",
    "    :rtype: matplotlib.axes\n",
    "    \n",
    "    \"\"\"\n",
    "    a = ax.table(data,  colLabels=colLabels, colWidths=colWidths, bbox=bbox, loc=\"lower center\", **kwargs)\n",
    "    t = make_a_summary_table(a, data, colLabels, a_color=a_color, font_size=12, s_et_bottom_row=False, coded_labels=coded_labels, codes=codes)\n",
    "    return t\n",
    "def remove_spines(ax):\n",
    "    ax.spines['top'].set_visible(False)\n",
    "    ax.spines['right'].set_visible(False)\n",
    "    ax.spines['bottom'].set_visible(False)\n",
    "    ax.spines['left'].set_visible(False)\n",
    "    \n",
    "    return ax\n",
    "def remove_ticks(ax):\n",
    "    ax.get_xaxis().set_ticks([])\n",
    "    ax.get_yaxis().set_ticks([])\n",
    "    \n",
    "    return ax   "
   ]
  },
  {
   "cell_type": "markdown",
   "metadata": {
    "tags": []
   },
   "source": [
    "## INTRODUCTION \n",
    "\n",
    "According to a Brief History of Marine Litter, the first scientifically recorded interaction between marine organisms and persistent litter was in 1969 {cite}`briefhistory`. In 1972 the International Journal of Environmental Studies observed that most of the trash on isolated stretches of ocean shoreline was a result of sea‐borne waste. The waste is primarily a by‐product of international commerce and not the behavior of the casual visitor {cite}`scottdebunksource`.  This document picks up the trail 50 years later and several hundred miles upstream.  While the harmful effects of plastic are (apparently) debatable, its occurrence on our beaches and in our water is undeniable.  Volunteers, applying common sense protocols put in place over the past twenty years, have created a very accurate picture of the occurrence of plastics at sea and on inland lakes and rivers.  \n",
    "\n",
    "The United Nations published a first international guide to collecting ocean beach litter in 2008 {cite}`unepseas`. This publication was followed by another guide developed by OSPAR {cite}`osparguidelines` in 2010 and then, in 2013, the EU published the Guidance on Monitoring Marine Litter in European Seas {cite}`mlwguidance`. Riverine Litter Monitoring - Options and Recommendations was published later, in 2016, as evidence was mounting that rivers are major sources of marine litter.  {cite}`riverinemonitor` As a result, thousands of observations have been collected following a very similar protocol {cite}`mlwdata` {cite}`ospardata`. These data are collected by different organizations, mostly volunteer, throughout the European continent. Each observation is a categorical list of objects and their respective quantities within a defined length of shoreline, the EU standard is 100 meters. However, when the baseline values were defined, all samples within a beach length greater than 10 meters were considered {cite}`mlwguidance` {cite}`osparguidelines`. The same protocol has been in place in Switzerland since November 2015, targeting regional lakes and rivers. {cite}`iqaasl` \n",
    "\n",
    "The data collected by volunteers were considered fit for the purpose of establishing beach-litter threshold values by the Marine Litter Technical Group of the EU. However, the lack of quantitative research on the harmful effects of beach litter, specifically the dose-effect relationship between plastic and ecological harm, precludes the establishment of threshold values based on this metric. Therefore, threshold values and baselines needed to be adopted according to the precautionary principle to limit exposure. Threshold values could not be based on the socio-economic effects of beach litter either because the negative effects have proven difficult to define quantitatively.  {cite}`threshholdeu`. In practice, EU threshold values are determined by using the 15th percentile (20 p/100m) from the combined data set of 2015-2016 beach litter surveys within the EU. {cite}`threshholdeu`  Thus, this threshold can be interpreted as a ratio of the given the survey data greater than 20 p/100m or 85%. \n",
    "\n",
    " Considering that the median value was 133 p/100 m in the 2015-2016 beach litter surveys, it means that regional administrations will need to allocate resources to meet the threshold value if they want to achieve good environmental status under the Marine Strategy Framework Directive {cite}`goodenvironmentalstanding`. At the same time, determining which are the most effective solutions will require that stakeholders conduct intermediate assessments based on benchmarks to evaluate progress and compare probable outcomes. This requires having adequate statistical tools. \n",
    "\n",
    "Additionally, the potential applications for beach litter data go beyond establishing threshold values. Developing Life Cycle Assessments is an excellent example. The Life Cycle Initiative (LCI) is a public-private partnership that includes France, Switzerland, Germany and the EU with a stated goal of advancing the understanding of life cycle thinking by private and public decision makers. In partnership with Plastics Europe, LCI has been attempting \"to integrate potential environmental impacts of marine litter, especially plastic, in Life Cycle Assessment (LCA) results\".  {cite}`marilca` {cite}`lci`.The consequences of plastic leaked into the environment are not accounted for in the current practice of LCA {cite}`woods2021107918`. This could be in part for the same reasons that the EU adopted the precautionary principle, as opposed to dose-effect relationships when developing threshold values.   \n",
    "\n",
    "Nevertheless, recent attempts have been made to develop a Marine Litter Indicator (MLI) for LCAs. For instance, based on the commonsense hypothesis that there is a relationship between the number of objects produced, value of those objects once the product is consumed, and the likelihood that they will be littered, it was concluded that returnable PET bottles or returnable glass bottles would have the lowest MLI, all things considered {cite}`plasticorglass`. A very similar method was used when proposing an MLI for plastic carrier bags. {cite}` civancikuslu2019621` \n",
    "\n",
    "If the reason for adopting a threshold value is based on the precautionary principle, then, ultimately, the threshold value is an attempt to limit exposure. For the LCA it appears that the lifecycle of the product ends when the original product is no longer identifiable {cite}`plasticorglass`, ie.. exposure ends when the object/product is no longer recognizable. Beach litter surveys account for both cases (i) Identifiable objects and (ii) fragmented plastics of different sizes.  Beach litter survey results are not included in the calculation of the proposed MLI. {cite}`plasticorglass` {cite}`civancikuslu2019621` \n",
    "\n",
    "In both cases, EU thresholds and LCAs, are attempts at reducing the probability of the event “an object was found on the beach today” but none answers the general question “How likely is an object to be found”.   This can be done by recalling that probability is a ratio not a frequency and applying Bayes theorem to the survey results for objects or groups of objects {cite}`Jaynes`. The development and application of the method is illustrated through its application to a particular case: object, feminine hygiene products (FHP) and system, beaches in Geneva, Switzerland. Both are briefly introduced below. \n",
    "\n",
    "Clean up events and awareness campaigns have played a major role in identifying the principal components of beach litter and the presence of plastics in the environment. One such campaign is End Period Plastics in the UK who is working to eliminate plastics in feminine hygiene products (FHP). The campaign includes meetings throughout Europe with manufacturers, suppliers and vendors of plastic FHP. In preparation for a meeting with a producer of FHP in Geneva, the team from End Period Plastics was interested in knowing the incidence of these objects in Lake Geneva {cite}`endperiodplastics`. Their request is at the origin of this study. Tampon applicators and tampons are part of a group of specific items that are found on beaches and that most likely originate from toilet flushing or a wastewater treatment facility, cotton-swabs are also part of that group.  {cite}`obriain2020116021` {cite}`padbackingstrips` {cite}`increasingplastics`  \n",
    "\n",
    "Beach litter monitoring on Lake Geneva started in November 2015 using the MSFD method. Data has been collected at irregular intervals since then. Geneva beaches (xxx) have been sampled intermittently since the start, in contrast to other beaches such as those in other parts of the lake such as in Saint Sulpice (xxx) which has fewer samples but has samples between October and November every year. The Rhône outflow into the Mediterranean Sea is also monitored using the same protocol as Lake Geneva thus using the values from different locations in the same river basin to assess probable values at any location in that river basin depending on the data.  Bayes theorem is used as a method to determine the location in Geneva beaches where the probability of finding an FHP is highest by comparing the probability of finding an FHP and covariates at different temporal and geographical bounds. A litter survey was conducted with End Period Plastics staff and hammerdirt surveyors to illustrate the abundance of FHP on the lake. Because of time and transportation constraints, this litter survey had to be conducted on a site with the following criteria: (i) access with public transport, (ii) completed in less than three hours, and (iii) preferably a location where there was a chance to find this specific item quickly. \n",
    "\n",
    "## DATA AND METHODS \n",
    "\n",
    "### Study sites \n",
    "\n",
    "Lake Geneva is a perialpine lake at an altitude of 372 m above mean sea level located between France and Switzerland. It has an elongated shape, a surface area of 580 km2, and maximum length and width of 72.3 and 14 km, respectively. The average water residence time is 11.3 years. The lake is subdivided into two sub-basins: the Grand Lac (large lake) (309 m deep) and the Petit Lac (small lake) (medium-sized basin with a volume of 3 km3 and a maximum depth of about 70 m.  Lake Geneva is fed by a large number of rivers and streams but most of the water enters through the Rhône River. The permanent population (2011) in its watershed is: 1,083,431 (France: 142,229, Switzerland: 941,202) but also hosts a large tourism population. There are 171 wastewater treatment plants (population equivalent: 3,009,830). {cite}`cipel2019` \n",
    "\n",
    "Geneva beaches (baby plage, baby plage II, Jardin botanique, rocky plage, villa barton), are located in the Petit Lac (Figure 1). St Sulpice beaches (parc des pierrettes, plage de dorigny, plage de st-sulpice, saint-sulpice, tiger-duck beach), whose data is also used in this study, in the Grand Lac (Figure 1).\n",
    "\n",
    "#### Map here\n",
    "\n",
    "Lake Geneva is connected to the Mediterranean Sea by the Rhône River. The city of Port Saint Louis is at the mouth of the Rhône where it discharges into the sea. Port Saint Louis benefits from regular monitoring using the same protocol and coding system as Switzerland {cite}`merter`.  "
   ]
  },
  {
   "cell_type": "markdown",
   "metadata": {
    "tags": []
   },
   "source": [
    "### Data\n",
    "\n",
    "\n",
    "\n",
    "The first sample was recorded on Lake Geneva on November 23, 2015. Between November 2015 and June 2021 there were 247 beach-litter surveys at 38 different locations. In total, 78,104 objects were removed and identified, of which 358 objects were either tampons or tampon applicators (0.45%). {cite}`iqaasl` \n",
    "\n",
    "There are three separate sampling periods, each sampling period represents an initiative or campaign. The sampling periods are not of the same length nor is the sampling frequency fixed, except for a few specific locations in periods two and three. There were no samples collected in Geneva beaches during sampling period two. \n",
    "\n",
    "1. Project one: 2015-11-15 to 2017-03-01; the first project on Lac Léman (MCBP) \n",
    "\n",
    "2. Project two: 2017-04-01 to 2018-05-01; the Swiss Litter Report (SLR) \n",
    "\n",
    "3. Project three: 2020-03-01 to 2021-11-01; the start of IQAASL up to two weeks before the survey with End Period Plastics. \n",
    "\n",
    "FHP were present in 102 samples (41%). However, FHP are not found at the same rate at all locations. There were ten locations with only one sample (all periods included), of those ten at least one FHP was identified in four of the ten samples/locations. \n",
    "\n",
    "Of the other 28 locations, FHP were found at all locations except for three. Those three locations, in different regions of the lake, had two samples each. All locations with at least three surveys had at least one FHP identified in a survey, the minimum ratio of samples with FHP was 0.07 at baye-de-clarens. There were two locations that had a ratio of 1 (all samples have FHP products), la-pecherie in Allaman and parc-des-pierrettes in Saint Sulpice, see Annex table 1a. \n",
    "\n",
    "Table 1.  Number of locations, samples and positive samples per sampling period in Lake Geneva. Table 2. Number of locations, samples and positive samples per period for all locations within the city limits of Geneva city. "
   ]
  },
  {
   "cell_type": "markdown",
   "metadata": {
    "tags": []
   },
   "source": [
    "The shores of Saint Sulpice (Grand Lac) have been monitored yearly since 2016 by students of the EPFL.  \n",
    "\n",
    "The median beach litter survey value on Mediterranean Beaches was 294 p/100m {cite}`threshholdeu`. \n",
    "\n",
    "Statistical methods \n",
    "\n",
    "The location with the greatest probability, theta, of finding an FHP on a given sampling day will be determined by considering, for each location of interest, the data up to the day prior to sampling. The statistical conclusions about the parameter theta are made in terms of probability statements. {cite}`bayesgelman` \n",
    "\n",
    "Before any statement can be made about the relationship between the data and theta, they must be combined into a joint probability distribution. Bayes' rule does that by setting the conditional probability of theta to the observed data, p (θ|data) as: \n",
    "\n",
    "#### Formula one\n",
    "\n",
    "Note that the expression to the left of the equal sign reads \"the probability of theta given the data\", which is different from p( data | theta ). In p (θ|data),  theta is being conditioned by the observations, in p( data | theta ), the data is being conditioned by theta. {cite}`bayesdowney` \n",
    "\n",
    "These statements conform to a common-sense interpretation about any conclusions that may arise from the observed survey results.  To understand what is meant by common sense interpretation consider the series of questions that might be asked in order to gather the necessary information required to decide which location might have the greatest value of theta, prior to examining the data: \n",
    "\n",
    "* What is the value of theta for the lake? \n",
    "\n",
    "* Is it the same at all locations? \n",
    "\n",
    "* What is the value of theta Geneva? \n",
    "\n",
    "* Is it greater or less than the lake? \n",
    "\n",
    "* Is it the same at all locations in Geneva? \n",
    "\n",
    "* Where is the best chance of finding an FHP in Geneva if all the data for the lake is available? \n",
    "\n",
    "* Where is the best chance of finding an FHP in Geneva if only a subset of the data is available? \n",
    "\n",
    "* Do objects with similar sources have similar results? \n",
    "\n",
    "* Do other cities have similar results? \n",
    "\n",
    "* Were the samples gathered in the same way? \n",
    "\n",
    "* What is the difference between condition three and four? \n",
    "\n",
    "* Is four within the range of three? \n",
    "\n",
    "* Does the conclusion change given condition three or four? \n",
    "\n",
    "* Where am likely to find the most in the river basin?  How does Geneva compare? \n",
    "\n",
    "* Given the data, how reasonable are the answers to these questions? \n",
    "\n",
    "The uncertainty of those conclusions is defined by the range of the 94% Highest Density Interval of probability (HDI) as opposed to a confidence interval. The interval of probability contains the likely values of theta given the data and our prior beliefs. {cite}`bayesgelman` {cite}`bayesdowney` {cite}`bayespillon` \n",
    "\n",
    "The probability distribution of θ given the data, or posterior, can be defined in more general terms as: \n",
    "\n",
    "#### formula 2\n",
    "\n",
    "where the prior is the estimate or belief about theta prior to seeing the data and the likelihood is the chance of observing the data given theta, the normalizing constant is the total probability of the data and ensures that, when theta is integrated on [0,1], it integrates to 1. {cite}`bayesrules` \n",
    "\n",
    "To construct the model, the prior, posterior and likelihood functions need to be defined. The probability of finding an FHP anywhere on the lake ranges from [0,1] and is not constant. Thus, theta can take on different values depending on the quantity at the location of interest and the surveyor's ability to find and recognize the object as an FHP. \n",
    "\n",
    "The results for each survey are transformed to Boolean values. If an FHP was recorded at a survey, FHP = 1 and is 0 otherwise. This reduces each survey to one independent Bernoulli trial. Therefore, the probability of finding an FHP at any location in n samples can be described by the probability mass function of the Binomial distribution {cite}`bindistwiki`: \n",
    "\n",
    "#### formula 3\n",
    "\n",
    "In this configuration (3) theta only takes on one value. To account for the different possible values of theta, its' value can be set to the Beta distribution resulting in a Binomial distribution with parameter theta which is defined by a Beta distribution with parameters alpha and beta.\n",
    "\n",
    "#### formula 4\n",
    "\n",
    "#### formula 5\n",
    "\n",
    "The Beta distribution, defined on [0,1], takes two parameters, the number of times that an FHP was found = alpha, and the number of times that an FHP was not found = beta (n-FHP). A conjugate prior to the Binomial distribution, this model has many applications to any situation where the parameter of interest is in the range [0,1]. {cite}`bayesgelman` {cite}bayesjefferys {cite}`bayesrules` \n",
    "\n",
    "The probability density function of the Beta distribution is {cite}`betawiki`: \n",
    "\n",
    "#### formula 6\n",
    "\n",
    "When sampling started in 2015, there were no reference values for the region. Count surveys of litter data in the maritime environment had produced volumes of data but under significantly different conditions. Without reference values, we had no prior assumptions on the probability of finding an FHP and assumed that the probability was the same for all locations on the lake. The assumed distribution of theta prior to November 2015 is therefore a standard uniform distribution defined by Beta(1,1).  This reflects the experience and expectations at the time. {cite}`bayesjefferys` {cite}`catalogofpriors` {cite}`noninformativepriors` \n",
    "\n",
    "The general forms in equations 1 and 2 can now be defined using elements of 3 and 6, according to the model defined in 4 and 5. Note that the second and third expressions on the right side of the equations in 3 and 6 are the same for the Binomial and Beta distributions.\n",
    "\n",
    "#### formula 7\n",
    "\n",
    "#### formula 8 \n",
    "\n",
    "#### formula 9\n",
    "\n",
    "Putting that together by dropping the normalizing constants that do not depend on theta (10) and combining like values results in the posterior distribution of theta (11).\n",
    "\n",
    "#### formula 10\n",
    "\n",
    "#### formula 11\n",
    "\n",
    "The posterior distribution of theta (11) is an unnormalized Beta distribution with parameters alpha and beta.  This means that the prior uninformed estimate in November 2015 can be updated with the data from each sampling period in sequence. {cite}`bayesrules`  {cite}`bayesdowney` \n",
    "\n",
    "Using this method, the results from sampling period one (which incorporate the initial estimate) become the prior distribution for the results of sampling period two and this process is repeated until the last sampling period. {cite}`bayesdowney`\n",
    "\n",
    "__Assumptions__\n",
    "\n",
    "* The samples are independent and identically distributed\n",
    "* Theta is approximately equal for all locations which is the expected value for the lake\n",
    "* The expected result for the lake or the region is the best estimate for locations without samples\n",
    "* Exchangeability of data {cite}`bayesgelman` \n",
    "\n",
    "__Computational methods__\n",
    "\n",
    "Markov Chain Monte Carlo (MCMC) was used. MCMC is a general method used to simulate probability models. A Markov chain is a model that describes a sequence of possible events where the probability of each event depends only on the results of the previous event. {cite}`bayeskruschke`  {cite}`bayesdowney` {cite}`bayespilon` \n",
    "\n",
    "The implementation of MCMC methods is done with PyMC3 v3.1 {cite}`pymc` and the results are analyzed with ArviZ v0.11.4 {cite}`arviz`, SciPy v1.7 {cite}`scipy` and pandas v1.34 {cite}`reback2020pandas` all running in a Python v3.7 {cite}`python` environment. \n",
    "\n",
    "The data and methods are available in the repository: https://github.com/hammerdirt-analyst/finding-one-object \n",
    "\n",
    "## RESULTS AND DISCUSSION \n",
    "\n",
    "The probable mean values of theta lake (Figure 2, Table three) from one sampling period to the next is an example of how new data changes the expectation of finding an FHP on the beach as more samples are acquired. Consider that the difference between the 97% and 3% interval for each sampling period gets smaller as more data is added. Thus, decreasing uncertainty about the incidence of FHP on the lake and the probability of finding one, by year three it is 94% certain that the chance of finding an FHP on the beach is between 35% and 47% with an expected value of 41% (Table three).   \n",
    "\n",
    "As shown in Figure 2, it is apparent that the probability of finding FHPs in the whole lake was not the same at every survey. The expected probability is highest in year two, but the smallest 94% HDI is observed in year three: 12%. Recall that there were no samples in period two in Geneva and that not all locations were sampled in each sampling period (Table 2). "
   ]
  },
  {
   "cell_type": "code",
   "execution_count": 4,
   "metadata": {
    "tags": []
   },
   "outputs": [
    {
     "data": {
      "image/png": "[encoded data removed]",
      "text/plain": [
       "<Figure size 648x576 with 4 Axes>"
      ]
     },
     "metadata": {
      "needs_background": "light"
     },
     "output_type": "display_data"
    }
   ],
   "source": [
    "\n",
    "fhg_summary[\"rate\"] = fhg_summary.s_pos/fhg_summary[\"n samples\"]\n",
    "\n",
    "# assign a period to each sample\n",
    "ldb['period'] = 1\n",
    "ldb.loc[y_two, 'period'] = 2\n",
    "ldb.loc[y_thre, 'period'] = 3\n",
    "\n",
    "# identify the zero values\n",
    "just_fhg = ldb[fhg].copy()\n",
    "just_fhg['found'] = False\n",
    "just_fhg.loc[(just_fhg.quantity > 0), 'found'] = True\n",
    "\n",
    "# count the positive values y for each period and region\n",
    "geneva = just_fhg[just_fhg.city.isin(city)]\n",
    "sulpice = just_fhg[just_fhg.city.isin(['Saint-Sulpice (VD)'])]\n",
    "\n",
    "summary_sulpice = sulpice.groupby('period', as_index=False).agg({'location':'nunique', 'loc_date':'nunique', 'found':'sum'})\n",
    "summary_sulpice.rename(columns={'loc_date':'samples','found':'FHP', 'location':'locations'}, inplace=True)\n",
    "summary_sulpice.sort_values(by='period', inplace=True)\n",
    "summary_sulpice.reset_index(drop=True, inplace=True)\n",
    "\n",
    "\n",
    "summary_geneva = geneva.groupby('period', as_index=False).agg({'location':'nunique', 'loc_date':'nunique', 'found':'sum'})\n",
    "summary_geneva.rename(columns={'loc_date':'samples','found':'FHP', 'location':'locations'}, inplace=True)\n",
    "\n",
    "#there were  no samples in Geneva durring the second sampling period\n",
    "summary_geneva.loc[2] = 2,0, 0, 0\n",
    "summary_geneva.sort_values(by='period', inplace=True)\n",
    "summary_geneva.reset_index(drop=True, inplace=True)\n",
    "\n",
    "summary_just_fhg = just_fhg.groupby('period', as_index=False).agg({'location':'nunique', 'loc_date':'nunique', 'found':'sum'})\n",
    "summary_just_fhg.rename(columns={'loc_date':'samples','found':'FHP', 'location':'locations'}, inplace=True)\n",
    "\n",
    "fig, ax = plt.subplots(2,2, figsize=(9,8))\n",
    "\n",
    "axone = ax[0,0]\n",
    "axtwo= ax[0,1]\n",
    "axthree=ax[1,0]\n",
    "\n",
    "table_one = a_simple_formatted_table(axone,summary_just_fhg.values,colLabels=summary_just_fhg.columns, a_color=\"black\", colWidths=[*[.25]*4], bbox=[0,0,1,1])\n",
    "axone = remove_spines(axone)\n",
    "axone = remove_ticks(axone)\n",
    "axone.set_xlabel(\"Lac Léman\", fontsize=14, labelpad=14)\n",
    "\n",
    "table_two = a_simple_formatted_table(axtwo,summary_geneva.values,colLabels=summary_geneva.columns, a_color=\"black\", colWidths=[*[.25]*4], bbox=[0,0,1,1],)\n",
    "axtwo = remove_spines(axtwo)\n",
    "axtwo = remove_ticks(axtwo)\n",
    "axtwo.set_xlabel(\"Geneva\", fontsize=14, labelpad=14)\n",
    "\n",
    "table_three = a_simple_formatted_table(axthree,summary_sulpice.values,colLabels=summary_sulpice.columns, a_color=\"black\", colWidths=[*[.25]*4], bbox=[0,0,1,1],)\n",
    "axthree = remove_spines(axthree)\n",
    "axthree = remove_ticks(axthree)\n",
    "axthree.set_xlabel(\"St Sulpice\", fontsize=14, labelpad=14)\n",
    "\n",
    "ax[1,1].axis(\"off\")\n",
    "\n",
    "\n",
    "plt.show()"
   ]
  },
  {
   "cell_type": "markdown",
   "metadata": {
    "tags": []
   },
   "source": [
    "### Method\n",
    "\n",
    "The location with the greatest probability of finding an FHP will be determined by Bayesian inference. The statistical conclusions about a parameter $\\theta$ are made in terms of probability statements. These statements conform to a commom-senses interpretation about any conclusions that may arise from the statistical analysis.  Using the Bayesian method the results of the analysis will provide an __interval of probability__ as opposed to a confidence interval. The interval of probability contains the likely values of $\\theta$ given the data and our __prior beliefs__. {cite}`gelman` {cite}`pillon` {cite}`downey`\n",
    "\n",
    "Before any probability statements can be made about the relationship between the data and $\\theta$, they must be combined into a joint probability distribution. Bayes' rule does that by setting the conditional probablilty of $\\theta$ to the observed data:\n",
    "\n",
    "$$p({\\theta} | data) = \\frac{p(\\theta)p(data | \\theta)}{p(data)} \\tag{1}$$\n",
    "\n",
    "The expression to the left of the equal sign is read _\"The probability of $\\theta$ given data\"_, which is the unobserved parameter of interest. The numerator is the product of the probability of $\\theta$ and the probability of the data given $\\theta$. {cite}`gelman`\n",
    "\n",
    "The equality can be expressed in more general terms:\n",
    "\n",
    "$$\\text{posterior} = \\frac{\\text{prior * likelihood}}{\\text{normalizing constant}} \\tag{2}$$\n",
    "\n",
    "The terms prior, posterior and likelihood have specific meanings. The prior is the estimate or belief about $\\theta$ prior to collecting data. The likelihood is the chance of observing the data given $\\theta$. The posterior is the distribution of the unobserved parameter ($\\theta$), the value of interest. The normalizing constant is the total probability of the data and ensures that when $\\theta$ is integrated on \\[0,1\\] it actually integrates to 1.\n",
    "\n",
    "__The model__\n",
    "\n",
    "To construct the model the prior, posterior and likelihood functions need to be defined. The probability of finding an FHP anywhere on the lake ranges from \\[0,1\\] and is not constant. Thus $\\theta$ can take on different values depending on the quantity at the location of interest and the surveyors ability to find and recognize the object as an FHP.\n",
    "\n",
    "Before defining the model the results for each survey need to be transformed to boolean values. If an FHP was recorded at a survey FHP = 1 and 0 otherwise. This reduces each survey to one idependent bernouli trial. Therefore, the probability of finding an FHP at any location can be described by the Binomial distribution, where n=number of samples and FHP=the number of times an FHP was found:\n",
    "\n",
    "$$\n",
    "\\begin{align}\n",
    "f(FHP|n,\\theta) &= {n \\choose FHP} \\theta^{FHP} (1-\\theta)^{ n-FHP}\\\\\n",
    "\\tag{3}\n",
    "\\end{align}\n",
    "$$\n",
    "\n",
    "The above expression states that \"_The probability of FHP found given the number of samples and $\\theta$ equals the probability density function of the Binomial distribution_\". In this configuration $\\theta$ only takes on one value. To account for the possible different values, $\\theta$ can be set to a probability distribution that is defined on the range \\[0,1\\]. The Beta-Binomial model defines the probability of an event (finding an FHP) on \\[0, 1\\] as the function of two parameters $\\alpha$ and $\\beta$. By defining the value of $\\theta$ as a Beta distribution with parameters the variability between locations can be better identified :\n",
    "\n",
    "$$\n",
    "\\begin{align}\n",
    "FHP|\\theta \\sim & Bin(n, \\theta)\\\\[8pt]\n",
    "\\theta \\sim & Beta(\\alpha, \\beta)\n",
    "\\tag{4}\n",
    "\\end{align}\n",
    "$$\n",
    "\n",
    "The Beta distribtion is a *conjugate prior* to the Binomial distribution and is limited to values between 0 and 1. This results in a closed form __posterior distribution__ and predictable methods for updating the parameters of Beta from one sampling period to the next. This model has many applications to any situtation where the parameter of interest is in the range \\[0,1\\]. {cite}`gelman` {cite}`jefferies` {cite}`bayesrules`\n",
    "\n",
    "The probability density function of the Beta distribution is:\n",
    "\n",
    "$$f(\\theta | \\alpha, \\beta) = \\frac{1}{Beta(\\alpha, \\beta)} \\theta^{\\alpha -1} (1-\\theta)^{\\beta - 1} \\tag{5}$$\n",
    "\n",
    "The general forms in 1 and 2 can now be defined using elements of 3, 4 and 5. The normalizing constant is not dependent on $\\theta$ in either the Beta or Binomial distributions. \n",
    "\n",
    "__The prior__\n",
    "\n",
    "When sampling started in 2015 there were no reference values for the region. Count surveys of litter data in the maritime environment had produced volumes of data but under significantly different conditions. Without reference values we had no prior assumptions on the probability of finding an FHP and assumed the probability was $\\approxeq$ for all locations on the lake.\n",
    "\n",
    "The assumed distribution of $\\theta$ **prior** to November 2015 is therefore $Beta(1,1) = \\frac{1}{Beta(1, 1)} \\theta^{\\alpha -1} (1-\\theta)^{\\beta - 1} = 1$ which is the standard uniform distribution. Thus reflecting the experience and expectations when sampling started.\n",
    "\n",
    "__The probability of finding an FHP__ where n=number of samples, FHP=the number of samples with at least one FHP and $\\theta$ is the probability of finding at least one FHP at a sample:\n",
    "\n",
    "$$\n",
    "\\begin{align}\n",
    "P(\\theta | data) &=  \\frac{1}{Beta(\\alpha, \\beta)} \\theta^{\\alpha -1} (1-\\theta)^{\\beta - 1} \\cdot {n \\choose FHP} \\theta^{FHP} (1-\\theta)^{ n-FHP} \\tag{6}\\\\[8pt]\n",
    "&\\propto \\theta^{\\alpha -1} (1-\\theta)^{\\beta - 1} \\cdot \\theta^{FHP} (1-\\theta)^{ n-FHP} \\tag{7}\\\\[8pt]\n",
    "&\\propto \\theta^{(\\alpha + FHP) - 1} (1-\\theta)^{(\\beta + n - FHP) - 1} \\tag{8}\n",
    "\\end{align}\n",
    "$$\n",
    "\n",
    "The normalizing constants that do not depend on $\\theta$ are dropped (7) the result is the unormalized posterior distribution (8). It is important to note that (5) and (8) share the same form, the normalized Beta distribution. \n",
    "\n",
    "__Updating the model__\n",
    "\n",
    "The posterior distribution is an unormalized Beta distribution with parameters $\\alpha + FHP$ and $\\beta + n - FHP$. This means that the **prior** uninformed estimate in November 2015 can be updated with the data from each sampling period in sequence. Using this method the results from sampling period one (which incorporate the initial estimate) become the **prior** distribution for the results of sampling period two and this process is repeated until the last sampling period. For example:\n",
    "\n",
    "_Sampling period one example_\n",
    "\n",
    "$\\theta \\sim Beta(1,1)$ = estimate $\\theta$ prior to sampling\n",
    "\n",
    "n - y = number of samples in period one WITHOUT an FHP\n",
    "\n",
    "y = number of samples in period one WITH at leat one FHP\n",
    "\n",
    "_apply n and y from the observed results to the initial estimate:_\n",
    "\n",
    "$\\theta \\sim Beta( \\beta = 1 + y, \\alpha = 1 + n - y)$ = the estimated probability after period one **and** the prior distribution (initial estimate) for period two.\n",
    "\n",
    "__Assumptions__\n",
    "\n",
    "1. The samples are independent and identically distributed\n",
    "2. $\\theta$ $\\approxeq$ for all locations which is the expected value for the lake\n",
    "3. The expected result for the lake or the region is the best estimate for locations without samples\n",
    "4. exchangeabilty of data\n",
    "\n",
    "__Computational methods__\n",
    "\n",
    "Markov Chain Monte Carlo (MCMC) is a general method used to simulate probability models.  A Markov chain is a model that describes a sequence of possible events where the probability of each event depends only on the results of the previous event. {cite}`stan` {cite}`bayesrules` {cite}`pillon`\n",
    "\n",
    "The implementation of MCMC methods is done with PyMC3 v3.1 {cite}`pymc` and the results are analysed with ArviZ  v0.11.4 {cite}`arviz`, SciPy v1.7 {cite}`scipy`\n",
    "and pandas v1.34 {cite}`pandas` all running in a Python v3.7 {cite}`python` environment."
   ]
  },
  {
   "cell_type": "markdown",
   "metadata": {},
   "source": [
    "### Results\n",
    "\n",
    "__Lake Geneva__\n",
    "\n",
    "Before estimating the probable values of $\\theta$ for a specific location the third assumption needs to be calculated for each sampling period."
   ]
  },
  {
   "cell_type": "code",
   "execution_count": 5,
   "metadata": {},
   "outputs": [
    {
     "name": "stdout",
     "output_type": "stream",
     "text": [
      "yay\n"
     ]
    }
   ],
   "source": [
    "x = 3\n",
    "\n",
    "if 1 < x < 7 :\n",
    "    print(\"yay\")"
   ]
  },
  {
   "cell_type": "markdown",
   "metadata": {},
   "source": [
    "\n",
    "Parameters\n",
    "\n",
    "    psi: float\n",
    "\n",
    "        Expected proportion of Binomial variates (0 < psi < 1)\n",
    "    n: int\n",
    "\n",
    "        Number of Bernoulli trials (n >= 0).\n",
    "    p: float\n",
    "\n",
    "        Probability of success in each trial (0 < p < 1).\n",
    "\n"
   ]
  },
  {
   "cell_type": "code",
   "execution_count": 6,
   "metadata": {
    "tags": [
     "remove-output"
    ]
   },
   "outputs": [
    {
     "name": "stderr",
     "output_type": "stream",
     "text": [
      "Auto-assigning NUTS sampler...\n",
      "Initializing NUTS using jitter+adapt_diag...\n",
      "Multiprocess sampling (4 chains in 4 jobs)\n",
      "NUTS: [pLake]\n",
      "Sampling 4 chains for 1_000 tune and 5_000 draw iterations (4_000 + 20_000 draws total) took 3 seconds.\n",
      "Auto-assigning NUTS sampler...\n",
      "Initializing NUTS using jitter+adapt_diag...\n",
      "Multiprocess sampling (4 chains in 4 jobs)\n",
      "NUTS: [pLake]\n",
      "Sampling 4 chains for 1_000 tune and 5_000 draw iterations (4_000 + 20_000 draws total) took 3 seconds.\n",
      "Auto-assigning NUTS sampler...\n",
      "Initializing NUTS using jitter+adapt_diag...\n",
      "Multiprocess sampling (4 chains in 4 jobs)\n",
      "NUTS: [pLake]\n",
      "Sampling 4 chains for 1_000 tune and 5_000 draw iterations (4_000 + 20_000 draws total) took 3 seconds.\n"
     ]
    }
   ],
   "source": [
    "def model_a_sampling_period(observed, FHP, pk, names=[\"pLake\", \"thetaLake\"], model_name=[\"yeartwo\"], draws=5000):\n",
    "    \n",
    "    with pm.Model() as a:\n",
    "    \n",
    "        plake = pm.Beta(names[0], alpha=FHP, beta=pk)        \n",
    "        thetaLake = pm.Binomial(names[1],  n=1, observed=observed, p=plake)\n",
    "        \n",
    "        if 0 < np.mean(observed) < 1:\n",
    "            start_here = np.mean(observed)\n",
    "        else:\n",
    "            start_here = 0.4\n",
    "        \n",
    "\n",
    "        trace = pm.sample(draws=draws, cores=4, tune=1000, return_inferencedata=False, progressbar = False, start={names[1]:[start_here]})\n",
    "        postpred = pm.sample_posterior_predictive(trace, progressbar = False, var_names=names)\n",
    "        prior = pm.sample_prior_predictive()    \n",
    "\n",
    "        priordata = az.from_pymc3(\n",
    "            trace = trace,\n",
    "            posterior_predictive = postpred,\n",
    "            prior = prior\n",
    "\n",
    "        )\n",
    "\n",
    "       \n",
    "    return {model_name[0]:priordata, \"model\": a}\n",
    "\n",
    "def parameterize_prior(model, var_name=\"pLake\"):\n",
    "    \"\"\"Makes alpha, beta parameters from the mean and standard deviation\n",
    "    of the prior distribution\n",
    "    \"\"\"\n",
    "    \n",
    "    e = model[\"posterior_predictive\"][var_name].values.flatten()\n",
    "    f = len(e)\n",
    "    estd = np.std(e)\n",
    "    k=(((np.mean(e))*(1-np.mean(e)))/(estd**2))-1\n",
    "    \n",
    "    a=(np.mean(e)*k)\n",
    "    b=(1-np.mean(e))*k\n",
    "    \n",
    "    return a, b\n",
    "\n",
    "# model variables\n",
    "# observed\n",
    "observed = year_one[year_one.code.isin(code)].groupby(\"loc_date\").fail.sum().values\n",
    "\n",
    "# sometimes both types of FHP are found\n",
    "# make everything 0 or 1\n",
    "observed[observed > 1] = 1\n",
    "\n",
    "# the first year of sampling we didn't\n",
    "# know what to epxpect\n",
    "FHP = 1\n",
    "pk = 1\n",
    "\n",
    "year_one_model = model_a_sampling_period(observed, FHP, pk, names=[\"pLake\", \"thetaLake\"], model_name=[\"yearone\"])\n",
    "\n",
    "# year two\n",
    "observed = year_two[year_two.code.isin(code)].groupby(\"loc_date\").fail.sum().values\n",
    "\n",
    "observed[observed > 1] = 1\n",
    "\n",
    "FHP, pk = parameterize_prior(year_one_model[\"yearone\"], var_name=\"pLake\")\n",
    "print(FHP, pk)\n",
    "\n",
    "year_two_model = model_a_sampling_period(observed, FHP, pk, names=[\"pLake\", \"thetaLake\"], model_name=[\"yeartwo\"])\n",
    "\n",
    "# year three\n",
    "observed = year_three[year_three.code.isin(code)].groupby(\"loc_date\").fail.sum().values\n",
    "\n",
    "observed[observed > 1] = 1\n",
    "\n",
    "# year two is the prior for year three\n",
    "FHP, pk = parameterize_prior(year_two_model[\"yeartwo\"], var_name=\"pLake\")\n",
    "\n",
    "year_three_model = model_a_sampling_period(observed, FHP, pk, names=[\"pLake\", \"thetaLake\"], model_name=[\"yearthree\"])"
   ]
  },
  {
   "cell_type": "code",
   "execution_count": 29,
   "metadata": {},
   "outputs": [],
   "source": [
    "FHP, pk = parameterize_prior(year_one_model[\"yearone\"], var_name=\"pLake\")"
   ]
  },
  {
   "cell_type": "code",
   "execution_count": 32,
   "metadata": {},
   "outputs": [
    {
     "data": {
      "text/plain": [
       "(61.90364894344634, 82.53392191350721)"
      ]
     },
     "execution_count": 32,
     "metadata": {},
     "output_type": "execute_result"
    }
   ],
   "source": [
    "parameterize_prior(year_two_model[\"yeartwo\"], var_name=\"pLake\")"
   ]
  },
  {
   "cell_type": "code",
   "execution_count": 31,
   "metadata": {},
   "outputs": [
    {
     "data": {
      "text/plain": [
       "65.03225155985555"
      ]
     },
     "execution_count": 31,
     "metadata": {},
     "output_type": "execute_result"
    }
   ],
   "source": [
    "pk"
   ]
  },
  {
   "cell_type": "code",
   "execution_count": null,
   "metadata": {},
   "outputs": [],
   "source": [
    "year_two_model[\"yeartwo\"]"
   ]
  },
  {
   "cell_type": "code",
   "execution_count": 7,
   "metadata": {
    "tags": []
   },
   "outputs": [
    {
     "data": {
      "image/png": "[encoded data removed]",
      "text/plain": [
       "<Figure size 720x432 with 2 Axes>"
      ]
     },
     "metadata": {
      "needs_background": "light"
     },
     "output_type": "display_data"
    }
   ],
   "source": [
    "posts = {}\n",
    "models = dict(yearone=year_one_model, yeartwo=year_two_model, yearthree=year_three_model)\n",
    "\n",
    "# plot data\n",
    "for a_model in models:\n",
    "    data = models[a_model][a_model][\"posterior_predictive\"][\"pLake\"].values\n",
    "    sd=[*data[0], *data[1], *data[2], *data[3]]\n",
    "    \n",
    "    posts.update({a_model:sd})\n",
    "\n",
    "# summary stats\n",
    "tables = []\n",
    "for a_model in models:\n",
    "    data = az.summary(models[a_model][a_model], fmt=\"long\")\n",
    "    data.rename(columns={\"pLake\":a_model}, inplace=True)\n",
    "    tables.append(data)\n",
    "\n",
    "table_data = pd.concat(tables, axis=1)\n",
    "table_data.reset_index(inplace=True)\n",
    "\n",
    "fig, axs= plt.subplots(1,2, figsize=(10,6))\n",
    "\n",
    "# ythr_pos = lake_posteriors[2]\n",
    "\n",
    "wght = len(posts[\"yearone\"])\n",
    "\n",
    "axone=axs[0]\n",
    "axtwo=axs[1]\n",
    "\n",
    "sns.histplot(np.sort(posts[\"yearone\"]), stat='probability', color= 'blue', bins=50,binwidth=.021, alpha=.4, ax=axone, zorder=0, label='Period one')\n",
    "sns.histplot(np.sort(posts[\"yeartwo\"]), stat='probability', color='black',  bins=50, binwidth=.021, alpha=0.4, ax=axone, zorder=0,label='Period two')\n",
    "sns.histplot(np.sort(posts[\"yearthree\"]), stat='probability', ax=axone, bins=50, binwidth=.018, zorder=2, alpha=1, label=\"period three\")\n",
    "\n",
    "# axone.vlines(x=ythr_pos.interval(.95)[0], ymin=0, ymax=0.06, color='red')\n",
    "# axone.vlines(x=ythr_pos.interval(.95)[1], ymin=0, ymax=0.06, color='red')\n",
    "# axone.axvspan(xmin=ythr_pos.interval(.95)[0], xmax=ythr_pos.interval(.95)[1], ymin=0, ymax=.5, fill='x', zorder=100, alpha=0.2, color='red', label=\"95% ETI\")\n",
    "\n",
    "axone.set_xlim(.01,.99)\n",
    "axone.set_xlabel(r\"$\\theta$\", fontsize=16)\n",
    "axone.set_ylabel(r\"Probability of $\\theta$\", fontsize=16)\n",
    "\n",
    "axone.legend()\n",
    "\n",
    "table_two = a_simple_formatted_table(axtwo,table_data.values,colLabels=table_data.columns, a_color=\"black\", colWidths=[*[.25]*4], bbox=[0,0,1,1])\n",
    "axtwo = remove_spines(axtwo)\n",
    "axtwo = remove_ticks(axtwo)\n",
    "# axtwo.set_xlabel(\"Geneva\", fontsize=14, labelpad=14)\n",
    "\n",
    "plt.tight_layout()\n",
    "plt.show()"
   ]
  },
  {
   "cell_type": "markdown",
   "metadata": {},
   "source": [
    "*__Above:__ Figure 1, the distribution of $\\theta_{FHP}$ on Lake Geneva for each sampling period. At the end of year one it was apparent that the probability of finding FHPs was not the same at every survey. The expected probability is highest in year two, but the 94% HDI has the smallest range in year three ( 11.7 ).* "
   ]
  },
  {
   "cell_type": "code",
   "execution_count": null,
   "metadata": {},
   "outputs": [],
   "source": []
  },
  {
   "cell_type": "markdown",
   "metadata": {},
   "source": [
    "__Geneva__\n",
    "\n",
    "Recall that there were no samples in period two and that not all locations are sampled in each sampling period (table two). The assumpion is that without other evidence, $\\theta$ at any location is $\\approxeq$ to $\\theta$ for the lake. This concept is reciprocal, if $\\theta$ lake is under consideration all locations that have valid samples on the lake are included in the estimation, (figure 1). Evidence is defined as sample results."
   ]
  },
  {
   "cell_type": "markdown",
   "metadata": {},
   "source": [
    "\n",
    "Parameters\n",
    "\n",
    "    psi: float\n",
    "\n",
    "        Expected proportion of Binomial variates (0 < psi < 1)\n",
    "    n: int\n",
    "\n",
    "        Number of Bernoulli trials (n >= 0).\n",
    "    p: float\n",
    "\n",
    "        Probability of success in each trial (0 < p < 1).\n",
    "\n"
   ]
  },
  {
   "cell_type": "code",
   "execution_count": 62,
   "metadata": {},
   "outputs": [],
   "source": [
    "# the aggregated survey data\n",
    "ldng = ldb[(ldb.code.isin(code))][[\"period\",\"location\", \"fail\", \"loc_date\"]].copy()\n",
    "ldng = ldng.groupby([\"loc_date\"], as_index=False).fail.sum()\n",
    "g = ldng[\"fail\"].values\n",
    "g[g > 1] = 1"
   ]
  },
  {
   "cell_type": "code",
   "execution_count": null,
   "metadata": {},
   "outputs": [],
   "source": []
  },
  {
   "cell_type": "code",
   "execution_count": 63,
   "metadata": {},
   "outputs": [
    {
     "data": {
      "text/plain": [
       "102"
      ]
     },
     "execution_count": 63,
     "metadata": {},
     "output_type": "execute_result"
    }
   ],
   "source": [
    "ldng.fail.sum()"
   ]
  },
  {
   "cell_type": "code",
   "execution_count": 64,
   "metadata": {},
   "outputs": [],
   "source": [
    "def model_a_sampling_period_x(observed, FHP, pk, psi=0.01, names=[\"pLake\", \"thetaLake\"], model_name=[\"a_model\"], draws=5000):\n",
    "    \n",
    "    with pm.Model() as a:\n",
    "        \n",
    "       \n",
    "    \n",
    "        plake = pm.Beta(names[0], alpha=FHP, beta=pk)        \n",
    "        # thetaLake = pm.Binomial(names[1],  n=1, observed=observed, p=plake)\n",
    "        zinfBlake = pm.ZeroInflatedBinomial(names[1], psi=psi, n=len(observed), p=plake)\n",
    "        \n",
    "        if 0 < np.mean(observed) < 1:\n",
    "            start_here = np.mean(observed)\n",
    "        else:\n",
    "            start_here = 0.4\n",
    "        \n",
    "\n",
    "        trace = pm.sample(draws=draws, cores=4, tune=1000, return_inferencedata=False, progressbar = False)\n",
    "        postpred = pm.sample_posterior_predictive(trace, progressbar = False, var_names=names)\n",
    "        prior = pm.sample_prior_predictive()    \n",
    "\n",
    "        priordata = az.from_pymc3(\n",
    "            trace = trace,\n",
    "            posterior_predictive = postpred,\n",
    "            prior = prior\n",
    "\n",
    "        )\n",
    "\n",
    "       \n",
    "    return {model_name[0]:priordata, \"model\": a}"
   ]
  },
  {
   "cell_type": "code",
   "execution_count": 68,
   "metadata": {},
   "outputs": [
    {
     "name": "stdout",
     "output_type": "stream",
     "text": [
      "102 147\n"
     ]
    }
   ],
   "source": [
    "obs = ldng.fail\n",
    "fhp = ldng.fail.sum()\n",
    "pk = len(obs) - fhp\n",
    "\n",
    "print(fhp, pk)"
   ]
  },
  {
   "cell_type": "code",
   "execution_count": 69,
   "metadata": {},
   "outputs": [
    {
     "name": "stderr",
     "output_type": "stream",
     "text": [
      "Multiprocess sampling (4 chains in 4 jobs)\n",
      "CompoundStep\n",
      ">NUTS: [pLake]\n",
      ">Metropolis: [thetaLake]\n",
      "Sampling 4 chains for 1_000 tune and 5_000 draw iterations (4_000 + 20_000 draws total) took 4 seconds.\n",
      "The acceptance probability does not match the target. It is 0.7128303231710874, but should be close to 0.8. Try to increase the number of tuning steps.\n",
      "The rhat statistic is larger than 1.05 for some parameters. This indicates slight problems during sampling.\n",
      "The estimated number of effective samples is smaller than 200 for some parameters.\n"
     ]
    }
   ],
   "source": [
    "hm = model_a_sampling_period_x(obs, fhp, pk, psi=0.4, names=[\"pLake\", \"thetaLake\"], model_name=[\"a_model\"], draws=5000)"
   ]
  },
  {
   "cell_type": "code",
   "execution_count": null,
   "metadata": {},
   "outputs": [],
   "source": []
  },
  {
   "cell_type": "code",
   "execution_count": 70,
   "metadata": {},
   "outputs": [
    {
     "data": {
      "image/png": "[encoded data removed]",
      "text/plain": [
       "<Figure size 864x288 with 4 Axes>"
      ]
     },
     "metadata": {
      "needs_background": "light"
     },
     "output_type": "display_data"
    }
   ],
   "source": [
    "with hm[\"model\"]:\n",
    "    az.plot_trace(hm[\"a_model\"])"
   ]
  },
  {
   "cell_type": "code",
   "execution_count": null,
   "metadata": {},
   "outputs": [],
   "source": [
    "model_a_sampling_period_x(observed, FHP, pk, psi=0.01, names=[\"pLake\", \"thetaLake\", f\"z-{thetaunicode}\"], model_name=[\"a_model\"], draws=5000)"
   ]
  },
  {
   "cell_type": "code",
   "execution_count": null,
   "metadata": {},
   "outputs": [],
   "source": [
    "pymc3.distributions.discrete.ZeroInflatedBinomial(name, *args, **kwargs)"
   ]
  },
  {
   "cell_type": "code",
   "execution_count": 8,
   "metadata": {
    "tags": [
     "remove-output"
    ]
   },
   "outputs": [
    {
     "name": "stderr",
     "output_type": "stream",
     "text": [
      "Auto-assigning NUTS sampler...\n",
      "Initializing NUTS using jitter+adapt_diag...\n",
      "Multiprocess sampling (4 chains in 4 jobs)\n",
      "NUTS: [p-baby-plage-geneva]\n",
      "Sampling 4 chains for 1_000 tune and 2_000 draw iterations (4_000 + 8_000 draws total) took 2 seconds.\n",
      "Auto-assigning NUTS sampler...\n",
      "Initializing NUTS using jitter+adapt_diag...\n",
      "Multiprocess sampling (4 chains in 4 jobs)\n",
      "NUTS: [p-baby-plage-ii-geneve]\n",
      "Sampling 4 chains for 1_000 tune and 2_000 draw iterations (4_000 + 8_000 draws total) took 2 seconds.\n",
      "Auto-assigning NUTS sampler...\n",
      "Initializing NUTS using jitter+adapt_diag...\n",
      "Multiprocess sampling (4 chains in 4 jobs)\n",
      "NUTS: [p-jardin-botanique]\n",
      "Sampling 4 chains for 1_000 tune and 2_000 draw iterations (4_000 + 8_000 draws total) took 2 seconds.\n",
      "Auto-assigning NUTS sampler...\n",
      "Initializing NUTS using jitter+adapt_diag...\n",
      "Multiprocess sampling (4 chains in 4 jobs)\n",
      "NUTS: [p-rocky-plage]\n",
      "Sampling 4 chains for 1_000 tune and 2_000 draw iterations (4_000 + 8_000 draws total) took 2 seconds.\n",
      "Auto-assigning NUTS sampler...\n",
      "Initializing NUTS using jitter+adapt_diag...\n",
      "Multiprocess sampling (4 chains in 4 jobs)\n",
      "NUTS: [p-villa-barton]\n",
      "Sampling 4 chains for 1_000 tune and 2_000 draw iterations (4_000 + 8_000 draws total) took 2 seconds.\n"
     ]
    }
   ],
   "source": [
    "# the locations of interest\n",
    "locs = dfBeaches[(dfBeaches.city == \"Genève\")&(dfBeaches.water == \"l\")].index.unique()\n",
    "thetaunicode = \"\\u03B8\"\n",
    "\n",
    "\n",
    "\n",
    "\n",
    "periods = [\"yearone\", \"yeartwo\", \"yearthree\"]\n",
    "results = {beach:{} for beach in locs}\n",
    "\n",
    "\n",
    "\n",
    "def make_models_for_each_period(a_beachx, priors,ldng=ldng,results=results, periods=periods, period=3,  thetaunicode=thetaunicode, draws=2000):\n",
    "    \n",
    "    names = [f\"p-{a_beachx}\", f\"{thetaunicode}-{a_beachx}\"]         \n",
    "    index = len(priors)\n",
    "    \n",
    "    # all the data up to the period specified in period\n",
    "    # period is an array of index values that correspond\n",
    "    # to the sampling periods\n",
    "    prior_data = ldng.loc[(ldng.period.isin(priors))].groupby([\"loc_date\"]).fail.sum().to_numpy()\n",
    "    \n",
    "    # in some surveys both objects were identified\n",
    "    # anything greater than zero is considerered 1\n",
    "    prior_data[prior_data > 1] = 1\n",
    "    \n",
    "    # the number of times an FHP was found\n",
    "    FHP = sum(prior_data)\n",
    "    \n",
    "    # the number of samples\n",
    "    samps = len(prior_data)\n",
    "    \n",
    "    # the number times an FHP was not found\n",
    "    pk= samps-FHP        \n",
    "\n",
    "    observed = ldng.loc[(ldng.location.isin([a_beachx]))&(ldng.period.isin([period]))].groupby([\"loc_date\"]).fail.sum().values\n",
    "    # in some surveys both objects were identified\n",
    "    # anything greater than zero is considerered 1    \n",
    "    observed[observed > 1] = 1\n",
    "\n",
    "    # if there are observation of from the current\n",
    "    # sampling period use them\n",
    "    if len(observed):\n",
    "        pass \n",
    "\n",
    "    else:\n",
    "        # add one to the denominator and numerator\n",
    "        # that means that FHP = 1 and n samples = 2\n",
    "        # so that k, n-k = 1,1\n",
    "        observed = [0,1]\n",
    "    \n",
    "    model_name = f\"{a_beachx}-{periods[index]}\"\n",
    "\n",
    "    # returns an arviz data set\n",
    "    modelx = model_a_sampling_period(observed, FHP, pk, names=names, model_name=[model_name], draws=draws)\n",
    "\n",
    "    # update the dictionary       \n",
    "    results[a_beachx].update({\"model\":modelx[model_name]})\n",
    "\n",
    "def hdi_and_mcmc_summary(results, drop_these=[\"ess_bulk\", \"ess_tail\", \"mcse_mean\", \"mcse_sd\"]):\n",
    "    tabels = []\n",
    "    for a_model in results:\n",
    "        data = az.summary(results[a_model][\"model\"], fmt=\"long\")\n",
    "        tabels.append(data)\n",
    "    \n",
    "    table_data=pd.concat(tabels, axis=1)\n",
    "    table_data.drop(drop_these, inplace=True)\n",
    "    table_data.reset_index(inplace=True)\n",
    "    \n",
    "    return table_data\n",
    "\n",
    "\n",
    "\n",
    "def hdi_chart(table_data, columns=1, values=[0,2,3]):\n",
    "    hdis = table_data.columns[columns:]\n",
    "    hdi=table_data.loc[values, :][hdis]\n",
    "    \n",
    "    return hdi, hdis\n",
    "def chart_hdi_and_summary(hdi, hdis, figsize=(9,8), colorsx=[\"dodgerblue\",\"magenta\", \"chocolate\", \"lime\", \"slategrey\"]):\n",
    "\n",
    "    fig = plt.figure(figsize=figsize)\n",
    "\n",
    "    gs=GridSpec(11, 13, figure=fig)\n",
    "\n",
    "    axone = fig.add_subplot(gs[0:6,0:5])\n",
    "    axtwo = fig.add_subplot(gs[0:, 6:])\n",
    "\n",
    "    maxBeach = hdis[-1]\n",
    "\n",
    "    for i,beach in enumerate(hdis):\n",
    "        data = hdi.loc[:, hdis[i]].values\n",
    "        axone.hlines(y=i+.5, xmin=data[1], xmax=data[2], color=colorsx[i], linewidth=25,label=beach, alpha=.5)\n",
    "        axone.scatter(y=i+.5, x=data[0], c=\"black\", marker=\"x\", s=30, label=\"mean\")\n",
    "        if beach == maxBeach:\n",
    "            axone.vlines(x=data[0], ymin=0, ymax=len(hdis), linestyle=\"-.\")\n",
    "\n",
    "    axone.set_ylim(-.05, len(hdis))\n",
    "    handles, labels = axone.get_legend_handles_labels()\n",
    "\n",
    "    # remove the repetive labels\n",
    "    nh = handles[::2]\n",
    "    nl = labels[::2]\n",
    "\n",
    "    # put one back in\n",
    "    nl.append(labels[-1])\n",
    "    nh.append(handles[-1])\n",
    "\n",
    "    axone.legend(nh, nl, bbox_to_anchor=[0,-.15], loc=\"upper left\", labelspacing=2, borderpad=.4, frameon=False)\n",
    "\n",
    "    table_two = a_simple_formatted_table(axtwo,table_data.values,colLabels=table_data.columns, coded_labels=True, codes=[\"white\",*colorsx], colWidths=[.2, *[.16]*5], bbox=[0,0,1,1])\n",
    "    axtwo = remove_spines(axtwo)\n",
    "    axtwo = remove_ticks(axtwo)\n",
    "\n",
    "\n",
    "    plt.show()\n",
    "ldng =  ldng.groupby([\"loc_date\",\"location\", \"period\"], as_index=False).agg({\"fail\":\"sum\"})\n",
    "# make a model fore each beach\n",
    "for each_beach in locs:\n",
    "    make_models_for_each_period(each_beach, [1,2], period=3, ldng=ldng, draws=2000)"
   ]
  },
  {
   "cell_type": "code",
   "execution_count": 9,
   "metadata": {
    "tags": []
   },
   "outputs": [
    {
     "data": {
      "image/png": "[encoded data removed]",
      "text/plain": [
       "<Figure size 648x576 with 2 Axes>"
      ]
     },
     "metadata": {
      "needs_background": "light"
     },
     "output_type": "display_data"
    }
   ],
   "source": [
    "table_data = hdi_and_mcmc_summary(results)\n",
    "hdi, hdis = hdi_chart(table_data)\n",
    "chart_hdi_and_summary(hdi, hdis)"
   ]
  },
  {
   "cell_type": "markdown",
   "metadata": {},
   "source": [
    "*__Above:__ the probable values of $\\theta_{FHP}$ for the survey locations in Geneva given all the previous data from the lake. __Left:__ the difference in means is less than 0.01 for any of the locations. __Right:__ villa-barton has the highest min and max HDI values.* \n",
    "\n",
    "The predicted value of theta given all the data from lake is very close to the lake value for all locations in Geneva. Locations on the right side could have a 1% advantage over the expected value of theta for the lake. \n",
    "\n",
    "If the survey results from Geneva are considered independently of the lake results the expected value of theta is less but the uncertainty increases. The range of the 94% HDI is atleast twice that if the lake data is considered. However, the locations on the right side still have the highest expected value. "
   ]
  },
  {
   "cell_type": "code",
   "execution_count": 10,
   "metadata": {
    "tags": [
     "hide-input"
    ]
   },
   "outputs": [],
   "source": [
    "plac = [\n",
    "    \"Prangins\",\n",
    "    \"Promenthoux\",\n",
    "    \"Nyon\",\n",
    "    \"Crans-près-Céligny\",\n",
    "    \"Céligny\", \n",
    "    \"Founex\",\n",
    "    \"Coppet\",\n",
    "    \"Tannay\",\n",
    "    \"Mies\",\n",
    "    \"Versoix\",\n",
    "    \"Genthod\",\n",
    "    \"Bellevue\",\n",
    "    \"Pregny-Chambésy\",\n",
    "    \"Hermance\",\n",
    "    \"Anières\",\n",
    "    \"Corsier\",\n",
    "    \"Collonge-Bellerive\",\n",
    "    \"Vésenaz\",\n",
    "    \"Cologny\",\n",
    "    \"Genève\",]\n",
    "plac_beaches = dfBeaches[dfBeaches.city.isin(plac)].index.to_numpy()\n",
    "\n",
    "glac = [\n",
    "    \"Bourg-en-Lavaux\",\n",
    "    \"Puidoux\", \n",
    "    \"Cully\", \n",
    "    \"Grandvaux\", \n",
    "    \"Villette (Lavaux)\", \n",
    "    \"Lutry\", \n",
    "    \"Paudex\", \n",
    "    \"Pully\", \n",
    "    \"Lausanne\", \n",
    "    \"St-Sulpice (VD)\", \n",
    "    \"Préverenges\", \n",
    "    \"Morges\", \n",
    "    \"Tolochenaz\", \n",
    "    \"St-Prex\", \n",
    "    \"Buchillon\", \n",
    "    \"Allaman\", \n",
    "    \"Perroy\", \n",
    "    \"Rolle\", \n",
    "    \"Bursinel\", \n",
    "    \"Dully\", \n",
    "    \"Gland\",\n",
    "]\n",
    "glac_beaches = dfBeaches[dfBeaches.city.isin(glac)].index.to_numpy()\n",
    "\n",
    "hlac = [\n",
    "    \"Noville\",\n",
    "    \"Villeneuve (VD)\",\n",
    "    \"Veytaux\",\n",
    "    \"Territet\",\n",
    "    \"Montreux\",\n",
    "    \"Clarens\",\n",
    "    \"La Tour-de-Peilz\",\n",
    "    \"Vevey\",\n",
    "    \"Corseaux\",\n",
    "    \"St-Saphorin (Lavaux)\",\n",
    "    \"Rivaz\",\n",
    "    \"Port-Valais\",\n",
    "    \"Saint-Gingolph\"    \n",
    "]\n",
    "    \n",
    "    "
   ]
  },
  {
   "cell_type": "code",
   "execution_count": 11,
   "metadata": {
    "tags": [
     "remove-output"
    ]
   },
   "outputs": [
    {
     "name": "stderr",
     "output_type": "stream",
     "text": [
      "Auto-assigning NUTS sampler...\n",
      "Initializing NUTS using jitter+adapt_diag...\n",
      "Multiprocess sampling (4 chains in 4 jobs)\n",
      "NUTS: [p-baby-plage-geneva]\n",
      "Sampling 4 chains for 1_000 tune and 2_000 draw iterations (4_000 + 8_000 draws total) took 2 seconds.\n",
      "Auto-assigning NUTS sampler...\n",
      "Initializing NUTS using jitter+adapt_diag...\n",
      "Multiprocess sampling (4 chains in 4 jobs)\n",
      "NUTS: [p-baby-plage-ii-geneve]\n",
      "Sampling 4 chains for 1_000 tune and 2_000 draw iterations (4_000 + 8_000 draws total) took 2 seconds.\n",
      "Auto-assigning NUTS sampler...\n",
      "Initializing NUTS using jitter+adapt_diag...\n",
      "Multiprocess sampling (4 chains in 4 jobs)\n",
      "NUTS: [p-jardin-botanique]\n",
      "Sampling 4 chains for 1_000 tune and 2_000 draw iterations (4_000 + 8_000 draws total) took 2 seconds.\n",
      "Auto-assigning NUTS sampler...\n",
      "Initializing NUTS using jitter+adapt_diag...\n",
      "Multiprocess sampling (4 chains in 4 jobs)\n",
      "NUTS: [p-rocky-plage]\n",
      "Sampling 4 chains for 1_000 tune and 2_000 draw iterations (4_000 + 8_000 draws total) took 2 seconds.\n",
      "The acceptance probability does not match the target. It is 0.8857094586914098, but should be close to 0.8. Try to increase the number of tuning steps.\n",
      "Auto-assigning NUTS sampler...\n",
      "Initializing NUTS using jitter+adapt_diag...\n",
      "Multiprocess sampling (4 chains in 4 jobs)\n",
      "NUTS: [p-villa-barton]\n",
      "Sampling 4 chains for 1_000 tune and 2_000 draw iterations (4_000 + 8_000 draws total) took 2 seconds.\n"
     ]
    }
   ],
   "source": [
    "# the aggregated survey data\n",
    "# limit the prior to results in petite lac\n",
    "ldng = ldb[(ldb.code.isin(code))][[\"period\",\"location\", \"fail\", \"loc_date\"]].copy()\n",
    "ldng =  ldng[ldng.location.isin(plac_beaches)].groupby([\"loc_date\",\"location\", \"period\"], as_index=False).agg({\"fail\":\"sum\"})\n",
    "\n",
    "periods = [\"yearone\", \"yeartwo\", \"yearthree\"]\n",
    "results_nolake = {beach:{} for beach in locs}\n",
    "\n",
    "# make a model fore each beach\n",
    "for each_beach in locs:\n",
    "    make_models_for_each_period(each_beach, [1,2], results=results_nolake, ldng=ldng, draws=2000)"
   ]
  },
  {
   "cell_type": "code",
   "execution_count": 12,
   "metadata": {
    "tags": []
   },
   "outputs": [
    {
     "data": {
      "image/png": "[encoded data removed]",
      "text/plain": [
       "<Figure size 648x576 with 2 Axes>"
      ]
     },
     "metadata": {
      "needs_background": "light"
     },
     "output_type": "display_data"
    }
   ],
   "source": [
    "table_data = hdi_and_mcmc_summary(results_nolake)\n",
    "hdi, hdis = hdi_chart(table_data)\n",
    "\n",
    "chart_hdi_and_summary(hdi, hdis, figsize=(9,8))"
   ]
  },
  {
   "cell_type": "markdown",
   "metadata": {},
   "source": [
    "__Saint Sulpice__\n",
    "\n",
    "Students of Solid Waste engineering have been monitoring the beaches every year in november in St Sulpice since 2015."
   ]
  },
  {
   "cell_type": "code",
   "execution_count": 13,
   "metadata": {
    "tags": [
     "remove-output"
    ]
   },
   "outputs": [
    {
     "name": "stderr",
     "output_type": "stream",
     "text": [
      "Auto-assigning NUTS sampler...\n",
      "Initializing NUTS using jitter+adapt_diag...\n",
      "Multiprocess sampling (4 chains in 4 jobs)\n",
      "NUTS: [p-parc-des-pierrettes]\n",
      "Sampling 4 chains for 1_000 tune and 2_000 draw iterations (4_000 + 8_000 draws total) took 2 seconds.\n",
      "Auto-assigning NUTS sampler...\n",
      "Initializing NUTS using jitter+adapt_diag...\n",
      "Multiprocess sampling (4 chains in 4 jobs)\n",
      "NUTS: [p-plage-de-dorigny]\n",
      "Sampling 4 chains for 1_000 tune and 2_000 draw iterations (4_000 + 8_000 draws total) took 2 seconds.\n",
      "Auto-assigning NUTS sampler...\n",
      "Initializing NUTS using jitter+adapt_diag...\n",
      "Multiprocess sampling (4 chains in 4 jobs)\n",
      "NUTS: [p-plage-de-st-sulpice]\n",
      "Sampling 4 chains for 1_000 tune and 2_000 draw iterations (4_000 + 8_000 draws total) took 2 seconds.\n",
      "Auto-assigning NUTS sampler...\n",
      "Initializing NUTS using jitter+adapt_diag...\n",
      "Multiprocess sampling (4 chains in 4 jobs)\n",
      "NUTS: [p-saint-sulpice]\n",
      "Sampling 4 chains for 1_000 tune and 2_000 draw iterations (4_000 + 8_000 draws total) took 2 seconds.\n",
      "The acceptance probability does not match the target. It is 0.8830489073448727, but should be close to 0.8. Try to increase the number of tuning steps.\n",
      "Auto-assigning NUTS sampler...\n",
      "Initializing NUTS using jitter+adapt_diag...\n",
      "Multiprocess sampling (4 chains in 4 jobs)\n",
      "NUTS: [p-tiger-duck-beach]\n",
      "Sampling 4 chains for 1_000 tune and 2_000 draw iterations (4_000 + 8_000 draws total) took 2 seconds.\n"
     ]
    }
   ],
   "source": [
    "# the locations of interest\n",
    "locs = dfBeaches[(dfBeaches.city == \"Saint-Sulpice (VD)\")&(dfBeaches.water == \"l\")].index.unique()\n",
    "# thetaunicode = \"\\u03B8\"\n",
    "\n",
    "# code=[\"G96\", \"G144\"]\n",
    "\n",
    "# the aggregated survey data\n",
    "ldng = ldb[(ldb.code.isin(code))][[\"period\",\"location\", \"loc_date\",  \"fail\"]].copy()\n",
    "ldng =  ldng.groupby([\"loc_date\",\"location\", \"period\"], as_index=False).agg({\"fail\":\"sum\"})\n",
    "\n",
    "\n",
    "results_swe = {beach:{} for beach in locs}\n",
    "\n",
    "# make a model fore each beach\n",
    "for each_beach in locs:\n",
    "    make_models_for_each_period(each_beach, [1,2], results=results_swe, ldng=ldng, draws=2000)"
   ]
  },
  {
   "cell_type": "code",
   "execution_count": 14,
   "metadata": {},
   "outputs": [
    {
     "data": {
      "image/png": "[encoded data removed]",
      "text/plain": [
       "<Figure size 648x576 with 2 Axes>"
      ]
     },
     "metadata": {
      "needs_background": "light"
     },
     "output_type": "display_data"
    }
   ],
   "source": [
    "table_data = hdi_and_mcmc_summary(results_swe)\n",
    "hdi, hdis = hdi_chart(table_data)\n",
    "\n",
    "chart_hdi_and_summary(hdi, hdis, figsize=(9,8))"
   ]
  },
  {
   "cell_type": "code",
   "execution_count": 15,
   "metadata": {
    "tags": [
     "remove-output"
    ]
   },
   "outputs": [
    {
     "name": "stderr",
     "output_type": "stream",
     "text": [
      "Auto-assigning NUTS sampler...\n",
      "Initializing NUTS using jitter+adapt_diag...\n",
      "Multiprocess sampling (4 chains in 4 jobs)\n",
      "NUTS: [p-parc-des-pierrettes]\n",
      "Sampling 4 chains for 1_000 tune and 2_000 draw iterations (4_000 + 8_000 draws total) took 2 seconds.\n",
      "Auto-assigning NUTS sampler...\n",
      "Initializing NUTS using jitter+adapt_diag...\n",
      "Multiprocess sampling (4 chains in 4 jobs)\n",
      "NUTS: [p-plage-de-dorigny]\n",
      "Sampling 4 chains for 1_000 tune and 2_000 draw iterations (4_000 + 8_000 draws total) took 2 seconds.\n",
      "Auto-assigning NUTS sampler...\n",
      "Initializing NUTS using jitter+adapt_diag...\n",
      "Multiprocess sampling (4 chains in 4 jobs)\n",
      "NUTS: [p-plage-de-st-sulpice]\n",
      "Sampling 4 chains for 1_000 tune and 2_000 draw iterations (4_000 + 8_000 draws total) took 2 seconds.\n",
      "Auto-assigning NUTS sampler...\n",
      "Initializing NUTS using jitter+adapt_diag...\n",
      "Multiprocess sampling (4 chains in 4 jobs)\n",
      "NUTS: [p-saint-sulpice]\n",
      "Sampling 4 chains for 1_000 tune and 2_000 draw iterations (4_000 + 8_000 draws total) took 2 seconds.\n",
      "Auto-assigning NUTS sampler...\n",
      "Initializing NUTS using jitter+adapt_diag...\n",
      "Multiprocess sampling (4 chains in 4 jobs)\n",
      "NUTS: [p-tiger-duck-beach]\n",
      "Sampling 4 chains for 1_000 tune and 2_000 draw iterations (4_000 + 8_000 draws total) took 2 seconds.\n",
      "The acceptance probability does not match the target. It is 0.8804004612909045, but should be close to 0.8. Try to increase the number of tuning steps.\n"
     ]
    }
   ],
   "source": [
    "# the aggregated survey data\n",
    "# limit the prior to results in petite lac\n",
    "ldng = ldb[(ldb.code.isin(code))][[\"period\",\"location\", \"fail\", \"loc_date\"]].copy()\n",
    "ldng =  ldng[ldng.location.isin(glac_beaches)].groupby([\"loc_date\",\"location\", \"period\"], as_index=False).agg({\"fail\":\"sum\"})\n",
    "\n",
    "periods = [\"yearone\", \"yeartwo\", \"yearthree\"]\n",
    "results_nolake = {beach:{} for beach in locs}\n",
    "\n",
    "# make a model fore each beach\n",
    "for each_beach in locs:\n",
    "    make_models_for_each_period(each_beach, [1,2], results=results_nolake, ldng=ldng, draws=2000)"
   ]
  },
  {
   "cell_type": "code",
   "execution_count": 16,
   "metadata": {},
   "outputs": [
    {
     "data": {
      "image/png": "[encoded data removed]",
      "text/plain": [
       "<Figure size 648x576 with 2 Axes>"
      ]
     },
     "metadata": {
      "needs_background": "light"
     },
     "output_type": "display_data"
    }
   ],
   "source": [
    "table_data = hdi_and_mcmc_summary(results_nolake)\n",
    "hdi, hdis = hdi_chart(table_data)\n",
    "\n",
    "chart_hdi_and_summary(hdi, hdis, figsize=(9,8))"
   ]
  },
  {
   "cell_type": "markdown",
   "metadata": {},
   "source": [
    "## Conclusion\n",
    "\n",
    "The field operations manager, Shannon Erismann, decided that the best chances of finding an FHP was at villa-barton. She considered the proximity to the train station and the time it takes to complete a survey as well as the likelihood of finding an FHP. The locations on the left bank of the lake,  (baby-plage, rocky-plage and baby-plage-ii) had only 3/14 positive samples in the most recent sampling period, well below the mean for the lake. FHP had been found at villa-barton and at jardin-botanique previously (4/15) and those locations had only been sampled twice in the previous period, (annex table 2a).\n",
    "\n",
    "The probabiltiy of finding an FHP in Geneva at a beach litter survey is between 20% and 40% which is less than the rest of the lake (32%-47%). The chances tend to be greater, +1% on the right bank if a suitable location to sample can be found. Whether or not this can be generalized to the \"Petit Lac\" was not explored. \n",
    "\n",
    "__Significance__\n",
    "\n",
    "The signifigance of these results depends on the question:\n",
    "\n",
    "> $H_{0}$ : The chance of finding at least one FHP on the beach is less than 20% at each survey.\n",
    "\n",
    "> $H_{1}$ : The chance of finding an FHP is greater than 20% at each survey\n",
    "\n",
    "The alternative hypothesis is the most likely, the minimum 3% HDI for the lake or Geneva is 24%, making values less than 24% highly unlikely. Locations that have values in these lower ranges may have practices or methods that help reduce the incidence of these objects. \n",
    "\n",
    "> $H_{0}$: The chance of finding an FHP is the same for all locations in Geneva\n",
    "\n",
    "> $H_{1}$: The chance of finding an FHP is different for all locations in Geneva\n",
    "\n",
    "The null hypothesis is the most likely. Each location has a unique mean but the 94% HDIs are very similar, suggesting that values above and below the mean are equally likely for each location. The small differences between the means can be exploited to improve chances of finding an FHP by 1% at best.\n",
    "\n",
    "__Covariates__\n",
    "\n",
    "Another measure of significance could be the value of covariates tested under the same conditions. Cotton swabs are associated with the same source as FHP but are found more frequently. {cite}`iqaasl`"
   ]
  },
  {
   "cell_type": "code",
   "execution_count": 17,
   "metadata": {
    "tags": [
     "hide-input",
     "remove-output"
    ]
   },
   "outputs": [
    {
     "name": "stderr",
     "output_type": "stream",
     "text": [
      "Auto-assigning NUTS sampler...\n",
      "Initializing NUTS using jitter+adapt_diag...\n",
      "Multiprocess sampling (4 chains in 4 jobs)\n",
      "NUTS: [p-baby-plage-geneva]\n",
      "Sampling 4 chains for 1_000 tune and 2_000 draw iterations (4_000 + 8_000 draws total) took 2 seconds.\n",
      "Auto-assigning NUTS sampler...\n",
      "Initializing NUTS using jitter+adapt_diag...\n",
      "Multiprocess sampling (4 chains in 4 jobs)\n",
      "NUTS: [p-baby-plage-ii-geneve]\n",
      "Sampling 4 chains for 1_000 tune and 2_000 draw iterations (4_000 + 8_000 draws total) took 2 seconds.\n",
      "Auto-assigning NUTS sampler...\n",
      "Initializing NUTS using jitter+adapt_diag...\n",
      "Multiprocess sampling (4 chains in 4 jobs)\n",
      "NUTS: [p-jardin-botanique]\n",
      "Sampling 4 chains for 1_000 tune and 2_000 draw iterations (4_000 + 8_000 draws total) took 2 seconds.\n",
      "Auto-assigning NUTS sampler...\n",
      "Initializing NUTS using jitter+adapt_diag...\n",
      "Multiprocess sampling (4 chains in 4 jobs)\n",
      "NUTS: [p-rocky-plage]\n",
      "Sampling 4 chains for 1_000 tune and 2_000 draw iterations (4_000 + 8_000 draws total) took 2 seconds.\n",
      "Auto-assigning NUTS sampler...\n",
      "Initializing NUTS using jitter+adapt_diag...\n",
      "Multiprocess sampling (4 chains in 4 jobs)\n",
      "NUTS: [p-villa-barton]\n",
      "Sampling 4 chains for 1_000 tune and 2_000 draw iterations (4_000 + 8_000 draws total) took 2 seconds.\n"
     ]
    }
   ],
   "source": [
    "# %%capture\n",
    "# the locations of interest\n",
    "locs = dfBeaches[(dfBeaches.city == \"Genève\")&(dfBeaches.water == \"l\")].index.unique()\n",
    "# thetaunicode = \"\\u03B8\"\n",
    "\n",
    "code = [\"G95\"]\n",
    "\n",
    "# the aggregated survey data\n",
    "ldng = ldb[(ldb.code.isin(code))][[\"period\",\"location\", \"fail\", \"loc_date\"]].copy()\n",
    "ldng =  ldng.groupby([\"loc_date\",\"location\", \"period\"], as_index=False).agg({\"fail\":\"sum\"})\n",
    "\n",
    "\n",
    "periods = [\"yearone\", \"yeartwo\", \"yearthree\"]\n",
    "results = {beach:{} for beach in locs}\n",
    "\n",
    "# make a model for each beach\n",
    "for each_beach in locs:\n",
    "    make_models_for_each_period(each_beach,  [1,2], ldng=ldng, results=results,draws=2000)"
   ]
  },
  {
   "cell_type": "code",
   "execution_count": 18,
   "metadata": {
    "tags": [
     "hide-input"
    ]
   },
   "outputs": [
    {
     "data": {
      "image/png": "[encoded data removed]",
      "text/plain": [
       "<Figure size 648x576 with 2 Axes>"
      ]
     },
     "metadata": {
      "needs_background": "light"
     },
     "output_type": "display_data"
    }
   ],
   "source": [
    "table_data = hdi_and_mcmc_summary(results)\n",
    "hdi, hdis = hdi_chart(table_data)\n",
    "\n",
    "chart_hdi_and_summary(hdi, hdis, figsize=(9,8))"
   ]
  },
  {
   "cell_type": "markdown",
   "metadata": {},
   "source": [
    "*__Above:__ Figure 3, the probable values of $\\theta_{cotton-swabs}$ for the survey locations in Geneva. __Left:__ villa-barton has the highest average value by at least 1%. __Right:__ the 94% HDI ranges from 89% - 98%, approximately half the range for FHP.*"
   ]
  },
  {
   "cell_type": "markdown",
   "metadata": {},
   "source": [
    "When cotton swabs are considered the difference between villa-barton and the other locations is more evident. The probable range of values is between 85% and 98% a 13% difference compared to 20% for FHP. The elevated frequency of cotton swabs at the same place as FHP is consistent with previous results.\n",
    "\n",
    "If you absolutley need to find an FHP and are in Geneva then any information that can help you find one would be considered significant. If you are wondering about the occurence of other items and their rates of occurences then this is significant. If you are interested in building a recommender system that helps identify locations that accumulate or generate trash based on observations this may be significant, it is at least a starting point.\n",
    "\n",
    "__Ellas' adventure: the epilogue__\n",
    "\n",
    "Shannon gave a meeting place and time. A beach litter survey was conducted an FHP was found. ELla was on time for her meeting with the staff at Procter and Gamble. {cite}`20minutes`\n",
    "\n",
    "## Discussion\n",
    "\n",
    "The answer to Ellas question is at the heart of the multiple calls to reduce marine litter. It also has implications in the fields of marketing, life cycle assessment, envrionmental stewardship and governance. The EU released guidelines to calculate the median and threshold values of beach litter surveys conducted on European Seas. The results are intended to evaluate the _Good environmental standing_ of the locations surveyed according to the Marine Strategy Framework Directive (MSFD). The threhold value for _Good environmental standing_ was set at 20 objects of trash per 100 meters of beach.{cite}`eubaselines`\n",
    "\n",
    "This can be a tricky situation for stakeholders and regional adminsitrations. Consider a beach-litter survey as a detailed customer feedback form. At the same time that regional managers are trying to determine optimal resource allocation strategies, end users are planning the location of the next weekend getaway. In either case reliable data and transparent analysis methods are essential to making an informed decision.\n",
    "\n",
    "That these results correspond with the experience of the surveyors follows from the math. The derivation of the Beta-Binomial conjugate model is more complex than the its' proposition: `each survey within a region adds to the cumulative knowledge of that region and the locations that were surveyed`. This defines the benefit both of collecting data by hand and reporting the results as a likelihood or expectation of what a person may find. This often overlooked advantage imparts three critical pieces of information to the decision maker:\n",
    "\n",
    "> What the status was\n",
    "\n",
    "> What it would most likely be today\n",
    "\n",
    "> The source of the information\n",
    "\n",
    "If the survey results are considered reliable, stakeholders have a method to anticipate the user-experience and enact policies to improve that experience. This reduces the chances of miss communication and places the assessment of quality and satisfaction into the hands of the end-user. Many companies have used this formula to improve product quality and customer satisfaction. For producers of goods that appear on beach-litter surveys there is now a method to determine how likely a product will end up on a survey. This gives another metric to determine the accuracy of the LCA and improve product outcomes with respect to end of life cycle.\n",
    "\n",
    "The importance or signifigance of the results between individual beaches is allways a function of the number of samples at each beach. The assumption is that the probability of finding an object is about the same as the rest of the lake. Locations that have fewer samples in the most recent sampling period will tend to resemble the lake values more closely than locations that have more samples. The longer a location goes unsampled, the less weight its previous samples carry in the posterior distribution.\n",
    "\n",
    "Underpinning all of this potential is data reliability. There is tremendous pressure for organizations to _collect data_. A parallel structure to ensure good practices is yet to be proposed. If some portion of survey data variability can be attributed to the surveyor then there should be processes inplace to ensure that surveys are conducted in a consistent manner. \n",
    "\n",
    "__Next steps__\n",
    "\n",
    "The model proposed is scalable and reliable, the accuracy depends on the 94% HDI. Defining or locating more efficient methods to calculate the probability for all integer values would allow for the generalization of this process to all objects and locations. Understanding how the probability changes with respect to different independent variables can help stakeholders identify sources. The first steps were taken when $\\theta_{FHP}$ for all locations on lake were considered (annex Figure 1a)."
   ]
  },
  {
   "cell_type": "markdown",
   "metadata": {},
   "source": [
    "## Annex"
   ]
  },
  {
   "cell_type": "markdown",
   "metadata": {},
   "source": [
    "*__Below:__ Table 1a, the number of samples and the ratio of samples where at least one FHP was identified (rate).*"
   ]
  },
  {
   "cell_type": "code",
   "execution_count": 19,
   "metadata": {
    "tags": []
   },
   "outputs": [
    {
     "data": {
      "text/html": [
       "<div>\n",
       "<style scoped>\n",
       "    .dataframe tbody tr th:only-of-type {\n",
       "        vertical-align: middle;\n",
       "    }\n",
       "\n",
       "    .dataframe tbody tr th {\n",
       "        vertical-align: top;\n",
       "    }\n",
       "\n",
       "    .dataframe thead th {\n",
       "        text-align: right;\n",
       "    }\n",
       "</style>\n",
       "<table border=\"1\" class=\"dataframe\">\n",
       "  <thead>\n",
       "    <tr style=\"text-align: right;\">\n",
       "      <th></th>\n",
       "      <th>city</th>\n",
       "      <th>location</th>\n",
       "      <th>n samples</th>\n",
       "      <th>s_pos</th>\n",
       "      <th>rate</th>\n",
       "    </tr>\n",
       "  </thead>\n",
       "  <tbody>\n",
       "    <tr>\n",
       "      <th>0</th>\n",
       "      <td>Allaman</td>\n",
       "      <td>la-pecherie</td>\n",
       "      <td>3</td>\n",
       "      <td>3.0</td>\n",
       "      <td>1.000000</td>\n",
       "    </tr>\n",
       "    <tr>\n",
       "      <th>2</th>\n",
       "      <td>Genève</td>\n",
       "      <td>baby-plage-geneva</td>\n",
       "      <td>11</td>\n",
       "      <td>3.0</td>\n",
       "      <td>0.272727</td>\n",
       "    </tr>\n",
       "    <tr>\n",
       "      <th>4</th>\n",
       "      <td>Genève</td>\n",
       "      <td>jardin-botanique</td>\n",
       "      <td>3</td>\n",
       "      <td>2.0</td>\n",
       "      <td>0.666667</td>\n",
       "    </tr>\n",
       "    <tr>\n",
       "      <th>6</th>\n",
       "      <td>Genève</td>\n",
       "      <td>villa-barton</td>\n",
       "      <td>11</td>\n",
       "      <td>1.0</td>\n",
       "      <td>0.090909</td>\n",
       "    </tr>\n",
       "    <tr>\n",
       "      <th>7</th>\n",
       "      <td>Gland</td>\n",
       "      <td>lacleman_gland_kubela</td>\n",
       "      <td>11</td>\n",
       "      <td>3.0</td>\n",
       "      <td>0.272727</td>\n",
       "    </tr>\n",
       "    <tr>\n",
       "      <th>8</th>\n",
       "      <td>Gland</td>\n",
       "      <td>lacleman_gland_lecoanets</td>\n",
       "      <td>11</td>\n",
       "      <td>4.0</td>\n",
       "      <td>0.363636</td>\n",
       "    </tr>\n",
       "    <tr>\n",
       "      <th>10</th>\n",
       "      <td>La Tour-de-Peilz</td>\n",
       "      <td>bain-des-dames</td>\n",
       "      <td>4</td>\n",
       "      <td>3.0</td>\n",
       "      <td>0.750000</td>\n",
       "    </tr>\n",
       "    <tr>\n",
       "      <th>12</th>\n",
       "      <td>La Tour-de-Peilz</td>\n",
       "      <td>maladaire</td>\n",
       "      <td>15</td>\n",
       "      <td>3.0</td>\n",
       "      <td>0.200000</td>\n",
       "    </tr>\n",
       "    <tr>\n",
       "      <th>13</th>\n",
       "      <td>La Tour-de-Peilz</td>\n",
       "      <td>oyonne</td>\n",
       "      <td>3</td>\n",
       "      <td>2.0</td>\n",
       "      <td>0.666667</td>\n",
       "    </tr>\n",
       "    <tr>\n",
       "      <th>14</th>\n",
       "      <td>Lausanne</td>\n",
       "      <td>lacleman_vidy_santie</td>\n",
       "      <td>12</td>\n",
       "      <td>10.0</td>\n",
       "      <td>0.833333</td>\n",
       "    </tr>\n",
       "    <tr>\n",
       "      <th>16</th>\n",
       "      <td>Lausanne</td>\n",
       "      <td>vidy-ruines</td>\n",
       "      <td>7</td>\n",
       "      <td>2.0</td>\n",
       "      <td>0.285714</td>\n",
       "    </tr>\n",
       "    <tr>\n",
       "      <th>17</th>\n",
       "      <td>Montreux</td>\n",
       "      <td>baye-de-clarens</td>\n",
       "      <td>13</td>\n",
       "      <td>1.0</td>\n",
       "      <td>0.076923</td>\n",
       "    </tr>\n",
       "    <tr>\n",
       "      <th>18</th>\n",
       "      <td>Montreux</td>\n",
       "      <td>baye-de-montreux-d</td>\n",
       "      <td>16</td>\n",
       "      <td>5.0</td>\n",
       "      <td>0.312500</td>\n",
       "    </tr>\n",
       "    <tr>\n",
       "      <th>19</th>\n",
       "      <td>Montreux</td>\n",
       "      <td>baye-de-montreux-g</td>\n",
       "      <td>18</td>\n",
       "      <td>2.0</td>\n",
       "      <td>0.111111</td>\n",
       "    </tr>\n",
       "    <tr>\n",
       "      <th>20</th>\n",
       "      <td>Montreux</td>\n",
       "      <td>le-pierrier</td>\n",
       "      <td>5</td>\n",
       "      <td>3.0</td>\n",
       "      <td>0.600000</td>\n",
       "    </tr>\n",
       "    <tr>\n",
       "      <th>23</th>\n",
       "      <td>Préverenges</td>\n",
       "      <td>preverenges</td>\n",
       "      <td>14</td>\n",
       "      <td>9.0</td>\n",
       "      <td>0.642857</td>\n",
       "    </tr>\n",
       "    <tr>\n",
       "      <th>26</th>\n",
       "      <td>Saint-Gingolph</td>\n",
       "      <td>grand-clos</td>\n",
       "      <td>13</td>\n",
       "      <td>9.0</td>\n",
       "      <td>0.692308</td>\n",
       "    </tr>\n",
       "    <tr>\n",
       "      <th>27</th>\n",
       "      <td>Saint-Sulpice (VD)</td>\n",
       "      <td>parc-des-pierrettes</td>\n",
       "      <td>4</td>\n",
       "      <td>4.0</td>\n",
       "      <td>1.000000</td>\n",
       "    </tr>\n",
       "    <tr>\n",
       "      <th>29</th>\n",
       "      <td>Saint-Sulpice (VD)</td>\n",
       "      <td>plage-de-st-sulpice</td>\n",
       "      <td>4</td>\n",
       "      <td>2.0</td>\n",
       "      <td>0.500000</td>\n",
       "    </tr>\n",
       "    <tr>\n",
       "      <th>31</th>\n",
       "      <td>Saint-Sulpice (VD)</td>\n",
       "      <td>tiger-duck-beach</td>\n",
       "      <td>5</td>\n",
       "      <td>3.0</td>\n",
       "      <td>0.600000</td>\n",
       "    </tr>\n",
       "    <tr>\n",
       "      <th>34</th>\n",
       "      <td>Versoix</td>\n",
       "      <td>versoix</td>\n",
       "      <td>4</td>\n",
       "      <td>1.0</td>\n",
       "      <td>0.250000</td>\n",
       "    </tr>\n",
       "    <tr>\n",
       "      <th>35</th>\n",
       "      <td>Vevey</td>\n",
       "      <td>arabie</td>\n",
       "      <td>5</td>\n",
       "      <td>2.0</td>\n",
       "      <td>0.400000</td>\n",
       "    </tr>\n",
       "    <tr>\n",
       "      <th>36</th>\n",
       "      <td>Vevey</td>\n",
       "      <td>quai-maria-belgia</td>\n",
       "      <td>22</td>\n",
       "      <td>13.0</td>\n",
       "      <td>0.590909</td>\n",
       "    </tr>\n",
       "    <tr>\n",
       "      <th>37</th>\n",
       "      <td>Vevey</td>\n",
       "      <td>veveyse</td>\n",
       "      <td>17</td>\n",
       "      <td>6.0</td>\n",
       "      <td>0.352941</td>\n",
       "    </tr>\n",
       "  </tbody>\n",
       "</table>\n",
       "</div>"
      ],
      "text/plain": [
       "                  city                  location  n samples  s_pos      rate\n",
       "0              Allaman               la-pecherie          3    3.0  1.000000\n",
       "2               Genève         baby-plage-geneva         11    3.0  0.272727\n",
       "4               Genève          jardin-botanique          3    2.0  0.666667\n",
       "6               Genève              villa-barton         11    1.0  0.090909\n",
       "7                Gland     lacleman_gland_kubela         11    3.0  0.272727\n",
       "8                Gland  lacleman_gland_lecoanets         11    4.0  0.363636\n",
       "10    La Tour-de-Peilz            bain-des-dames          4    3.0  0.750000\n",
       "12    La Tour-de-Peilz                 maladaire         15    3.0  0.200000\n",
       "13    La Tour-de-Peilz                    oyonne          3    2.0  0.666667\n",
       "14            Lausanne      lacleman_vidy_santie         12   10.0  0.833333\n",
       "16            Lausanne               vidy-ruines          7    2.0  0.285714\n",
       "17            Montreux           baye-de-clarens         13    1.0  0.076923\n",
       "18            Montreux        baye-de-montreux-d         16    5.0  0.312500\n",
       "19            Montreux        baye-de-montreux-g         18    2.0  0.111111\n",
       "20            Montreux               le-pierrier          5    3.0  0.600000\n",
       "23         Préverenges               preverenges         14    9.0  0.642857\n",
       "26      Saint-Gingolph                grand-clos         13    9.0  0.692308\n",
       "27  Saint-Sulpice (VD)       parc-des-pierrettes          4    4.0  1.000000\n",
       "29  Saint-Sulpice (VD)       plage-de-st-sulpice          4    2.0  0.500000\n",
       "31  Saint-Sulpice (VD)          tiger-duck-beach          5    3.0  0.600000\n",
       "34             Versoix                   versoix          4    1.0  0.250000\n",
       "35               Vevey                    arabie          5    2.0  0.400000\n",
       "36               Vevey         quai-maria-belgia         22   13.0  0.590909\n",
       "37               Vevey                   veveyse         17    6.0  0.352941"
      ]
     },
     "execution_count": 19,
     "metadata": {},
     "output_type": "execute_result"
    }
   ],
   "source": [
    "fhg_summary[fhg_summary[\"n samples\"] > 2][[\"city\",\"location\", \"n samples\", \"s_pos\", \"rate\"]]"
   ]
  },
  {
   "cell_type": "markdown",
   "metadata": {},
   "source": [
    "In Geneva there were 16 samples in period three and 12 samples in the first period. Using the same method as above the range of probable values in Geneva ranges from 0 to 66%. A probability of 0 is not realistic and 12/28 samples are almost four years old. The range of possible values reflects how uncertain any prediction may be using these methods."
   ]
  },
  {
   "cell_type": "markdown",
   "metadata": {},
   "source": [
    "*__Table 2a:__ locations, number of samples and number of samples with at least one FHP in Geneva*"
   ]
  },
  {
   "cell_type": "code",
   "execution_count": 20,
   "metadata": {
    "tags": []
   },
   "outputs": [
    {
     "data": {
      "text/html": [
       "<div>\n",
       "<style scoped>\n",
       "    .dataframe tbody tr th:only-of-type {\n",
       "        vertical-align: middle;\n",
       "    }\n",
       "\n",
       "    .dataframe tbody tr th {\n",
       "        vertical-align: top;\n",
       "    }\n",
       "\n",
       "    .dataframe thead th {\n",
       "        text-align: right;\n",
       "    }\n",
       "</style>\n",
       "<table border=\"1\" class=\"dataframe\">\n",
       "  <thead>\n",
       "    <tr style=\"text-align: right;\">\n",
       "      <th></th>\n",
       "      <th>locations</th>\n",
       "      <th>period</th>\n",
       "      <th>samples</th>\n",
       "      <th>FHP</th>\n",
       "    </tr>\n",
       "  </thead>\n",
       "  <tbody>\n",
       "    <tr>\n",
       "      <th>0</th>\n",
       "      <td>baby-plage-geneva</td>\n",
       "      <td>3</td>\n",
       "      <td>11</td>\n",
       "      <td>3</td>\n",
       "    </tr>\n",
       "    <tr>\n",
       "      <th>1</th>\n",
       "      <td>baby-plage-ii-geneve</td>\n",
       "      <td>3</td>\n",
       "      <td>2</td>\n",
       "      <td>0</td>\n",
       "    </tr>\n",
       "    <tr>\n",
       "      <th>2</th>\n",
       "      <td>jardin-botanique</td>\n",
       "      <td>1</td>\n",
       "      <td>3</td>\n",
       "      <td>2</td>\n",
       "    </tr>\n",
       "    <tr>\n",
       "      <th>3</th>\n",
       "      <td>rocky-plage</td>\n",
       "      <td>3</td>\n",
       "      <td>1</td>\n",
       "      <td>0</td>\n",
       "    </tr>\n",
       "    <tr>\n",
       "      <th>4</th>\n",
       "      <td>villa-barton</td>\n",
       "      <td>1</td>\n",
       "      <td>9</td>\n",
       "      <td>0</td>\n",
       "    </tr>\n",
       "    <tr>\n",
       "      <th>5</th>\n",
       "      <td>villa-barton</td>\n",
       "      <td>3</td>\n",
       "      <td>2</td>\n",
       "      <td>1</td>\n",
       "    </tr>\n",
       "  </tbody>\n",
       "</table>\n",
       "</div>"
      ],
      "text/plain": [
       "              locations  period  samples  FHP\n",
       "0     baby-plage-geneva       3       11    3\n",
       "1  baby-plage-ii-geneve       3        2    0\n",
       "2      jardin-botanique       1        3    2\n",
       "3           rocky-plage       3        1    0\n",
       "4          villa-barton       1        9    0\n",
       "5          villa-barton       3        2    1"
      ]
     },
     "execution_count": 20,
     "metadata": {},
     "output_type": "execute_result"
    }
   ],
   "source": [
    "glocs_summary = geneva.groupby(['location', 'period'], as_index=False).agg({'loc_date':'nunique', 'fail':'sum'})\n",
    "glocs_summary.rename(columns={'loc_date':'samples','fail':'FHP', 'location':'locations'}, inplace=True)\n",
    "glocs_summary"
   ]
  },
  {
   "cell_type": "markdown",
   "metadata": {},
   "source": [
    "Villa-barton had 0/9 positive samples in the first period and 1/2 in the third period. Jardin-botanique had 2/3 in period one but has not been sampled since. To account for the results from prior  sampling periods bayesian inference will be used to estmate the location in Geneva that may have the highest value of $\\theta$ with respect to the other locations given the previous survey results."
   ]
  },
  {
   "cell_type": "code",
   "execution_count": 21,
   "metadata": {
    "tags": []
   },
   "outputs": [],
   "source": [
    "# the locations of interest\n",
    "locs = dfBeaches[(dfBeaches.water_name_slug == \"lac-leman\")&(dfBeaches.water == \"l\")].index.unique()\n",
    "thetaunicode = \"\\u03B8\"\n",
    "\n",
    "# the aggregated survey data\n",
    "code = [\"G96\", \"G144\"]\n",
    "ldng = ldb[(ldb.code.isin(code))][[\"period\",\"location\",\"loc_date\", \"p/100m\"]].copy()\n",
    "\n",
    "ldng =  ldng.groupby([\"loc_date\",\"location\", \"period\"], as_index=False).agg({\"p/100m\":\"sum\"})\n",
    "ldng[\"fail\"] = ldng[\"p/100m\"] > 0\n",
    "\n",
    "\n",
    "periods = [\"yearone\", \"yeartwo\", \"yearthree\"]\n",
    "results = {beach:{} for beach in locs}"
   ]
  },
  {
   "cell_type": "code",
   "execution_count": 22,
   "metadata": {
    "tags": [
     "remove-output"
    ]
   },
   "outputs": [
    {
     "name": "stderr",
     "output_type": "stream",
     "text": [
      "Auto-assigning NUTS sampler...\n",
      "Initializing NUTS using jitter+adapt_diag...\n",
      "Multiprocess sampling (4 chains in 4 jobs)\n",
      "NUTS: [p-anarchy-beach]\n",
      "Sampling 4 chains for 1_000 tune and 2_000 draw iterations (4_000 + 8_000 draws total) took 2 seconds.\n",
      "Auto-assigning NUTS sampler...\n",
      "Initializing NUTS using jitter+adapt_diag...\n",
      "Multiprocess sampling (4 chains in 4 jobs)\n",
      "NUTS: [p-arabie]\n",
      "Sampling 4 chains for 1_000 tune and 2_000 draw iterations (4_000 + 8_000 draws total) took 2 seconds.\n",
      "Auto-assigning NUTS sampler...\n",
      "Initializing NUTS using jitter+adapt_diag...\n",
      "Multiprocess sampling (4 chains in 4 jobs)\n",
      "NUTS: [p-baby-plage-geneva]\n",
      "Sampling 4 chains for 1_000 tune and 2_000 draw iterations (4_000 + 8_000 draws total) took 2 seconds.\n",
      "Auto-assigning NUTS sampler...\n",
      "Initializing NUTS using jitter+adapt_diag...\n",
      "Multiprocess sampling (4 chains in 4 jobs)\n",
      "NUTS: [p-baby-plage-ii-geneve]\n",
      "Sampling 4 chains for 1_000 tune and 2_000 draw iterations (4_000 + 8_000 draws total) took 2 seconds.\n",
      "The acceptance probability does not match the target. It is 0.8836074557653164, but should be close to 0.8. Try to increase the number of tuning steps.\n",
      "Auto-assigning NUTS sampler...\n",
      "Initializing NUTS using jitter+adapt_diag...\n",
      "Multiprocess sampling (4 chains in 4 jobs)\n",
      "NUTS: [p-bain-des-dames]\n",
      "Sampling 4 chains for 1_000 tune and 2_000 draw iterations (4_000 + 8_000 draws total) took 2 seconds.\n",
      "Auto-assigning NUTS sampler...\n",
      "Initializing NUTS using jitter+adapt_diag...\n",
      "Multiprocess sampling (4 chains in 4 jobs)\n",
      "NUTS: [p-baye-de-clarens]\n",
      "Sampling 4 chains for 1_000 tune and 2_000 draw iterations (4_000 + 8_000 draws total) took 2 seconds.\n",
      "The acceptance probability does not match the target. It is 0.8852378256064967, but should be close to 0.8. Try to increase the number of tuning steps.\n",
      "Auto-assigning NUTS sampler...\n",
      "Initializing NUTS using jitter+adapt_diag...\n",
      "Multiprocess sampling (4 chains in 4 jobs)\n",
      "NUTS: [p-baye-de-montreux-d]\n",
      "Sampling 4 chains for 1_000 tune and 2_000 draw iterations (4_000 + 8_000 draws total) took 2 seconds.\n",
      "The acceptance probability does not match the target. It is 0.878622012515242, but should be close to 0.8. Try to increase the number of tuning steps.\n",
      "Auto-assigning NUTS sampler...\n",
      "Initializing NUTS using jitter+adapt_diag...\n",
      "Multiprocess sampling (4 chains in 4 jobs)\n",
      "NUTS: [p-baye-de-montreux-g]\n",
      "Sampling 4 chains for 1_000 tune and 2_000 draw iterations (4_000 + 8_000 draws total) took 2 seconds.\n",
      "Auto-assigning NUTS sampler...\n",
      "Initializing NUTS using jitter+adapt_diag...\n",
      "Multiprocess sampling (4 chains in 4 jobs)\n",
      "NUTS: [p-boiron]\n",
      "Sampling 4 chains for 1_000 tune and 2_000 draw iterations (4_000 + 8_000 draws total) took 2 seconds.\n",
      "Auto-assigning NUTS sampler...\n",
      "Initializing NUTS using jitter+adapt_diag...\n",
      "Multiprocess sampling (4 chains in 4 jobs)\n",
      "NUTS: [p-cully-plage]\n",
      "Sampling 4 chains for 1_000 tune and 2_000 draw iterations (4_000 + 8_000 draws total) took 2 seconds.\n",
      "Auto-assigning NUTS sampler...\n",
      "Initializing NUTS using jitter+adapt_diag...\n",
      "Multiprocess sampling (4 chains in 4 jobs)\n",
      "NUTS: [p-grand-clos]\n",
      "Sampling 4 chains for 1_000 tune and 2_000 draw iterations (4_000 + 8_000 draws total) took 2 seconds.\n",
      "Auto-assigning NUTS sampler...\n",
      "Initializing NUTS using jitter+adapt_diag...\n",
      "Multiprocess sampling (4 chains in 4 jobs)\n",
      "NUTS: [p-jardin-botanique]\n",
      "Sampling 4 chains for 1_000 tune and 2_000 draw iterations (4_000 + 8_000 draws total) took 2 seconds.\n",
      "Auto-assigning NUTS sampler...\n",
      "Initializing NUTS using jitter+adapt_diag...\n",
      "Multiprocess sampling (4 chains in 4 jobs)\n",
      "NUTS: [p-la-morges]\n",
      "Sampling 4 chains for 1_000 tune and 2_000 draw iterations (4_000 + 8_000 draws total) took 2 seconds.\n",
      "Auto-assigning NUTS sampler...\n",
      "Initializing NUTS using jitter+adapt_diag...\n",
      "Multiprocess sampling (4 chains in 4 jobs)\n",
      "NUTS: [p-la-pecherie]\n",
      "Sampling 4 chains for 1_000 tune and 2_000 draw iterations (4_000 + 8_000 draws total) took 2 seconds.\n",
      "Auto-assigning NUTS sampler...\n",
      "Initializing NUTS using jitter+adapt_diag...\n",
      "Multiprocess sampling (4 chains in 4 jobs)\n",
      "NUTS: [p-lac-leman-hammerdirt]\n",
      "Sampling 4 chains for 1_000 tune and 2_000 draw iterations (4_000 + 8_000 draws total) took 2 seconds.\n",
      "Auto-assigning NUTS sampler...\n",
      "Initializing NUTS using jitter+adapt_diag...\n",
      "Multiprocess sampling (4 chains in 4 jobs)\n",
      "NUTS: [p-lacleman_gland_kubela]\n",
      "Sampling 4 chains for 1_000 tune and 2_000 draw iterations (4_000 + 8_000 draws total) took 2 seconds.\n",
      "Auto-assigning NUTS sampler...\n",
      "Initializing NUTS using jitter+adapt_diag...\n",
      "Multiprocess sampling (4 chains in 4 jobs)\n",
      "NUTS: [p-lacleman_gland_lecoanets]\n",
      "Sampling 4 chains for 1_000 tune and 2_000 draw iterations (4_000 + 8_000 draws total) took 2 seconds.\n",
      "Auto-assigning NUTS sampler...\n",
      "Initializing NUTS using jitter+adapt_diag...\n",
      "Multiprocess sampling (4 chains in 4 jobs)\n",
      "NUTS: [p-lacleman_vidy_santie]\n",
      "Sampling 4 chains for 1_000 tune and 2_000 draw iterations (4_000 + 8_000 draws total) took 2 seconds.\n",
      "Auto-assigning NUTS sampler...\n",
      "Initializing NUTS using jitter+adapt_diag...\n",
      "Multiprocess sampling (4 chains in 4 jobs)\n",
      "NUTS: [p-le-pierrier]\n",
      "Sampling 4 chains for 1_000 tune and 2_000 draw iterations (4_000 + 8_000 draws total) took 2 seconds.\n",
      "Auto-assigning NUTS sampler...\n",
      "Initializing NUTS using jitter+adapt_diag...\n",
      "Multiprocess sampling (4 chains in 4 jobs)\n",
      "NUTS: [p-le-port]\n",
      "Sampling 4 chains for 1_000 tune and 2_000 draw iterations (4_000 + 8_000 draws total) took 1 seconds.\n",
      "Auto-assigning NUTS sampler...\n",
      "Initializing NUTS using jitter+adapt_diag...\n",
      "Multiprocess sampling (4 chains in 4 jobs)\n",
      "NUTS: [p-maladaire]\n",
      "Sampling 4 chains for 1_000 tune and 2_000 draw iterations (4_000 + 8_000 draws total) took 2 seconds.\n",
      "Auto-assigning NUTS sampler...\n",
      "Initializing NUTS using jitter+adapt_diag...\n",
      "Multiprocess sampling (4 chains in 4 jobs)\n",
      "NUTS: [p-oyonne]\n",
      "Sampling 4 chains for 1_000 tune and 2_000 draw iterations (4_000 + 8_000 draws total) took 2 seconds.\n",
      "Auto-assigning NUTS sampler...\n",
      "Initializing NUTS using jitter+adapt_diag...\n",
      "Multiprocess sampling (4 chains in 4 jobs)\n",
      "NUTS: [p-parc-des-pierrettes]\n",
      "Sampling 4 chains for 1_000 tune and 2_000 draw iterations (4_000 + 8_000 draws total) took 2 seconds.\n",
      "Auto-assigning NUTS sampler...\n",
      "Initializing NUTS using jitter+adapt_diag...\n",
      "Multiprocess sampling (4 chains in 4 jobs)\n",
      "NUTS: [p-pierrier-sud]\n",
      "Sampling 4 chains for 1_000 tune and 2_000 draw iterations (4_000 + 8_000 draws total) took 2 seconds.\n",
      "Auto-assigning NUTS sampler...\n",
      "Initializing NUTS using jitter+adapt_diag...\n",
      "Multiprocess sampling (4 chains in 4 jobs)\n",
      "NUTS: [p-plage-de-dorigny]\n",
      "Sampling 4 chains for 1_000 tune and 2_000 draw iterations (4_000 + 8_000 draws total) took 2 seconds.\n",
      "Auto-assigning NUTS sampler...\n",
      "Initializing NUTS using jitter+adapt_diag...\n",
      "Multiprocess sampling (4 chains in 4 jobs)\n",
      "NUTS: [p-plage-de-st-sulpice]\n",
      "Sampling 4 chains for 1_000 tune and 2_000 draw iterations (4_000 + 8_000 draws total) took 2 seconds.\n",
      "Auto-assigning NUTS sampler...\n",
      "Initializing NUTS using jitter+adapt_diag...\n",
      "Multiprocess sampling (4 chains in 4 jobs)\n",
      "NUTS: [p-preverenges]\n",
      "Sampling 4 chains for 1_000 tune and 2_000 draw iterations (4_000 + 8_000 draws total) took 2 seconds.\n",
      "Auto-assigning NUTS sampler...\n",
      "Initializing NUTS using jitter+adapt_diag...\n",
      "Multiprocess sampling (4 chains in 4 jobs)\n",
      "NUTS: [p-preverenges-le-sout]\n",
      "Sampling 4 chains for 1_000 tune and 2_000 draw iterations (4_000 + 8_000 draws total) took 2 seconds.\n",
      "The acceptance probability does not match the target. It is 0.8814666026011134, but should be close to 0.8. Try to increase the number of tuning steps.\n",
      "Auto-assigning NUTS sampler...\n",
      "Initializing NUTS using jitter+adapt_diag...\n",
      "Multiprocess sampling (4 chains in 4 jobs)\n",
      "NUTS: [p-quai-maria-belgia]\n",
      "Sampling 4 chains for 1_000 tune and 2_000 draw iterations (4_000 + 8_000 draws total) took 2 seconds.\n",
      "Auto-assigning NUTS sampler...\n",
      "Initializing NUTS using jitter+adapt_diag...\n",
      "Multiprocess sampling (4 chains in 4 jobs)\n",
      "NUTS: [p-rocky-plage]\n",
      "Sampling 4 chains for 1_000 tune and 2_000 draw iterations (4_000 + 8_000 draws total) took 2 seconds.\n",
      "Auto-assigning NUTS sampler...\n",
      "Initializing NUTS using jitter+adapt_diag...\n",
      "Multiprocess sampling (4 chains in 4 jobs)\n",
      "NUTS: [p-rolle-plage]\n",
      "Sampling 4 chains for 1_000 tune and 2_000 draw iterations (4_000 + 8_000 draws total) took 2 seconds.\n",
      "Auto-assigning NUTS sampler...\n",
      "Initializing NUTS using jitter+adapt_diag...\n",
      "Multiprocess sampling (4 chains in 4 jobs)\n",
      "NUTS: [p-saint-sulpice]\n",
      "Sampling 4 chains for 1_000 tune and 2_000 draw iterations (4_000 + 8_000 draws total) took 2 seconds.\n",
      "Auto-assigning NUTS sampler...\n",
      "Initializing NUTS using jitter+adapt_diag...\n",
      "Multiprocess sampling (4 chains in 4 jobs)\n",
      "NUTS: [p-tiger-duck-beach]\n",
      "Sampling 4 chains for 1_000 tune and 2_000 draw iterations (4_000 + 8_000 draws total) took 2 seconds.\n",
      "Auto-assigning NUTS sampler...\n",
      "Initializing NUTS using jitter+adapt_diag...\n",
      "Multiprocess sampling (4 chains in 4 jobs)\n",
      "NUTS: [p-tolochenaz]\n",
      "Sampling 4 chains for 1_000 tune and 2_000 draw iterations (4_000 + 8_000 draws total) took 2 seconds.\n",
      "The acceptance probability does not match the target. It is 0.8854568531065482, but should be close to 0.8. Try to increase the number of tuning steps.\n",
      "Auto-assigning NUTS sampler...\n",
      "Initializing NUTS using jitter+adapt_diag...\n",
      "Multiprocess sampling (4 chains in 4 jobs)\n",
      "NUTS: [p-versoix]\n",
      "Sampling 4 chains for 1_000 tune and 2_000 draw iterations (4_000 + 8_000 draws total) took 2 seconds.\n",
      "Auto-assigning NUTS sampler...\n",
      "Initializing NUTS using jitter+adapt_diag...\n",
      "Multiprocess sampling (4 chains in 4 jobs)\n",
      "NUTS: [p-veveyse]\n",
      "Sampling 4 chains for 1_000 tune and 2_000 draw iterations (4_000 + 8_000 draws total) took 2 seconds.\n",
      "Auto-assigning NUTS sampler...\n",
      "Initializing NUTS using jitter+adapt_diag...\n",
      "Multiprocess sampling (4 chains in 4 jobs)\n",
      "NUTS: [p-vidy]\n",
      "Sampling 4 chains for 1_000 tune and 2_000 draw iterations (4_000 + 8_000 draws total) took 2 seconds.\n",
      "Auto-assigning NUTS sampler...\n",
      "Initializing NUTS using jitter+adapt_diag...\n",
      "Multiprocess sampling (4 chains in 4 jobs)\n",
      "NUTS: [p-vidy-ruines]\n",
      "Sampling 4 chains for 1_000 tune and 2_000 draw iterations (4_000 + 8_000 draws total) took 2 seconds.\n",
      "The acceptance probability does not match the target. It is 0.8788003026362171, but should be close to 0.8. Try to increase the number of tuning steps.\n",
      "Auto-assigning NUTS sampler...\n",
      "Initializing NUTS using jitter+adapt_diag...\n",
      "Multiprocess sampling (4 chains in 4 jobs)\n",
      "NUTS: [p-villa-barton]\n",
      "Sampling 4 chains for 1_000 tune and 2_000 draw iterations (4_000 + 8_000 draws total) took 2 seconds.\n"
     ]
    }
   ],
   "source": [
    "for each_beach in locs:\n",
    "    make_models_for_each_period(each_beach,  [1,2], ldng=ldng, results=results,draws=2000)"
   ]
  },
  {
   "cell_type": "code",
   "execution_count": 23,
   "metadata": {},
   "outputs": [],
   "source": [
    "# tables = []\n",
    "# for a_model in results:\n",
    "#     data = az.summary(results[a_model][\"model\"], fmt=\"long\")\n",
    "#     tables.append(data)\n",
    "\n",
    "# table_data = pd.concat(tables, axis=1)\n",
    "# table_data.drop([\"ess_bulk\", \"ess_tail\", \"mcse_mean\", \"mcse_sd\"], inplace=True)\n",
    "# table_data.reset_index(inplace=True)\n",
    "\n",
    "# colorsx = plt.cm.get_cmap(\"hsv\", len(locs))\n",
    "\n",
    "# # the HDI per location\n",
    "# hdis = table_data.columns[1:]\n",
    "# hdi = table_data.loc[[0,2,3],:][hdis]\n",
    "# hdi.loc[:, hdis[0]].values\n",
    "# hdi = hdi.sort_values(by=0, axis=1, ascending=False)"
   ]
  },
  {
   "cell_type": "code",
   "execution_count": 24,
   "metadata": {},
   "outputs": [],
   "source": [
    "table_data = hdi_and_mcmc_summary(results)\n",
    "hdi, hdis = hdi_chart(table_data)\n",
    "colorsx = plt.cm.get_cmap(\"hsv\", len(locs))\n",
    "\n",
    "# chart_hdi_and_summary(hdi, hdis, figsize=(9,8))"
   ]
  },
  {
   "cell_type": "code",
   "execution_count": 25,
   "metadata": {
    "tags": []
   },
   "outputs": [
    {
     "data": {
      "image/png": "[encoded data removed]",
      "text/plain": [
       "<Figure size 432x2246.4 with 1 Axes>"
      ]
     },
     "metadata": {
      "needs_background": "light"
     },
     "output_type": "display_data"
    }
   ],
   "source": [
    "fig, ax = plt.subplots(figsize=(6, len(locs)*.8))\n",
    "\n",
    "axone= ax\n",
    "\n",
    "colorsx = plt.cm.get_cmap(\"hsv\", len(locs))\n",
    "\n",
    "maxBeach = hdi.columns[0]\n",
    "\n",
    "for i,beach in enumerate(hdi.columns):\n",
    "    data = hdi.loc[:, beach].values\n",
    "    axone.hlines(y=i+.5, xmin=data[1], xmax=data[2], color=colorsx(i), linewidth=25,label=beach, alpha=.5)\n",
    "    axone.scatter(y=i+.5, x=data[0], c=\"black\", marker=\"x\", s=30, label=\"mean\")\n",
    "    if beach == maxBeach:\n",
    "        axone.vlines(x=data[0], ymin=0, ymax=len(hdis), linestyle=\"-.\")\n",
    "\n",
    "axone.set_ylim(-.05, len(hdis))\n",
    "handles, labels = axone.get_legend_handles_labels()\n",
    "\n",
    "# remove the repetive labels\n",
    "nh = handles[::2]\n",
    "nl = labels[::2]\n",
    "\n",
    "nh = nh[::-1]\n",
    "nl = nl[::-1]\n",
    "\n",
    "# put one back in\n",
    "nl.append(labels[-1])\n",
    "nh.append(handles[-1])\n",
    "\n",
    "axone.legend(nh, nl, bbox_to_anchor=[1,1], loc=\"upper left\", labelspacing=2, borderpad=.4, frameon=False)\n",
    "\n",
    "# table_two = a_simple_formatted_table(axtwo,table_data.values,colLabels=table_data.columns, coded_labels=True, codes=[\"white\",*colorsx], colWidths=[.2, *[.16]*5], bbox=[0,0,1,1])\n",
    "# axtwo = remove_spines(axtwo)\n",
    "# axtwo = remove_ticks(axtwo)\n",
    "\n",
    "\n",
    "plt.show()\n"
   ]
  },
  {
   "cell_type": "code",
   "execution_count": 26,
   "metadata": {},
   "outputs": [],
   "source": [
    "g_lac = dfBeaches[dfBeaches.city.isin(glac)].copy()\n",
    "g_lac[\"region\"] = \"grand-lac\"\n",
    "p_lac = dfBeaches[dfBeaches.city.isin(plac)].copy()\n",
    "p_lac[\"region\"] = \"petit-lac\"\n",
    "\n",
    "mapvals = pd.concat([g_lac, p_lac])\n",
    "mapvals.to_csv(\"resources/mapvals.csv\", index=False)"
   ]
  },
  {
   "cell_type": "code",
   "execution_count": 27,
   "metadata": {
    "tags": [
     "hide-input"
    ]
   },
   "outputs": [
    {
     "data": {
      "text/markdown": [
       "\n",
       "<br></br>\n",
       "**Hammerdirt everyday.**<br>\n",
       "\n",
       ">❤️ what you do.<br>\n",
       "\n",
       "*roger@hammerdirt.ch* pushed the run button.<br>\n",
       "This document originates from https://github.com/hammerdirt-analyst/ all copyrights apply.<br>\n"
      ],
      "text/plain": [
       "<IPython.core.display.Markdown object>"
      ]
     },
     "execution_count": 27,
     "metadata": {},
     "output_type": "execute_result"
    }
   ],
   "source": [
    "author = \"roger@hammerdirt.ch\"\n",
    "my_message = \"\\u2764\\ufe0f what you do.\"\n",
    "md(F\"\"\"\n",
    "<br></br>\n",
    "**Hammerdirt everyday.**<br>\n",
    "\n",
    ">{my_message}<br>\n",
    "\n",
    "*{author}* pushed the run button.<br>\n",
    "This document originates from https://github.com/hammerdirt-analyst/ all copyrights apply.<br>\n",
    "\"\"\")"
   ]
  },
  {
   "cell_type": "markdown",
   "metadata": {},
   "source": []
  },
  {
   "cell_type": "code",
   "execution_count": null,
   "metadata": {
    "tags": []
   },
   "outputs": [],
   "source": []
  }
 ],
 "metadata": {
  "kernelspec": {
   "display_name": "Python 3 (ipykernel)",
   "language": "python",
   "name": "python3"
  },
  "language_info": {
   "codemirror_mode": {
    "name": "ipython",
    "version": 3
   },
   "file_extension": ".py",
   "mimetype": "text/x-python",
   "name": "python",
   "nbconvert_exporter": "python",
   "pygments_lexer": "ipython3",
   "version": "3.7.6"
  }
 },
 "nbformat": 4,
 "nbformat_minor": 4
}
